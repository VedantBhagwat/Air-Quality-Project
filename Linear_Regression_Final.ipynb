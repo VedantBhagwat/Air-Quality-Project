{
 "cells": [
  {
   "cell_type": "code",
   "execution_count": 52,
   "metadata": {},
   "outputs": [],
   "source": [
    "import numpy as np\n",
    "import pandas as pd\n",
    "\n",
    "from sklearn.impute import SimpleImputer\n",
    "import random\n",
    "import matplotlib.pyplot as plt\n",
    "from sklearn import model_selection\n",
    "from sklearn.preprocessing import StandardScaler, normalize\n",
    "\n",
    "from sklearn.svm import SVC\n",
    "from sklearn.neighbors import KNeighborsRegressor\n",
    "from sklearn.ensemble import RandomForestRegressor\n",
    "from sklearn.linear_model import LinearRegression\n",
    "\n",
    "from sklearn import metrics\n",
    "from sklearn.model_selection import GridSearchCV"
   ]
  },
  {
   "cell_type": "code",
   "execution_count": 2,
   "metadata": {},
   "outputs": [],
   "source": [
    "df_Limerick_Peoples_Park_locf  = pd.read_csv(\"df_Limerick.Peoples.Park_locf.csv\", delimiter=\",\")\n",
    "df_Rathmines_locf  = pd.read_csv(\"df_Rathmines_locf.csv\", delimiter=\",\")\n",
    "df_Waterford_locf  = pd.read_csv(\"df_Waterford_locf.csv\", delimiter=\",\")"
   ]
  },
  {
   "cell_type": "code",
   "execution_count": 3,
   "metadata": {},
   "outputs": [
    {
     "data": {
      "text/html": [
       "<div>\n",
       "<style scoped>\n",
       "    .dataframe tbody tr th:only-of-type {\n",
       "        vertical-align: middle;\n",
       "    }\n",
       "\n",
       "    .dataframe tbody tr th {\n",
       "        vertical-align: top;\n",
       "    }\n",
       "\n",
       "    .dataframe thead th {\n",
       "        text-align: right;\n",
       "    }\n",
       "</style>\n",
       "<table border=\"1\" class=\"dataframe\">\n",
       "  <thead>\n",
       "    <tr style=\"text-align: right;\">\n",
       "      <th></th>\n",
       "      <th>Date</th>\n",
       "      <th>NO2</th>\n",
       "      <th>NO</th>\n",
       "      <th>O3</th>\n",
       "      <th>PM2.5</th>\n",
       "      <th>PM10</th>\n",
       "    </tr>\n",
       "  </thead>\n",
       "  <tbody>\n",
       "    <tr>\n",
       "      <th>0</th>\n",
       "      <td>2019-01-01 00:00:00</td>\n",
       "      <td>3.5</td>\n",
       "      <td>0.3</td>\n",
       "      <td>31.2</td>\n",
       "      <td>8.8</td>\n",
       "      <td>12.4</td>\n",
       "    </tr>\n",
       "    <tr>\n",
       "      <th>1</th>\n",
       "      <td>2019-01-01 01:00:00</td>\n",
       "      <td>2.9</td>\n",
       "      <td>0.2</td>\n",
       "      <td>31.8</td>\n",
       "      <td>8.9</td>\n",
       "      <td>12.8</td>\n",
       "    </tr>\n",
       "    <tr>\n",
       "      <th>2</th>\n",
       "      <td>2019-01-01 02:00:00</td>\n",
       "      <td>5.2</td>\n",
       "      <td>22.5</td>\n",
       "      <td>30.0</td>\n",
       "      <td>6.9</td>\n",
       "      <td>10.8</td>\n",
       "    </tr>\n",
       "    <tr>\n",
       "      <th>3</th>\n",
       "      <td>2019-01-01 03:00:00</td>\n",
       "      <td>4.2</td>\n",
       "      <td>0.6</td>\n",
       "      <td>31.2</td>\n",
       "      <td>5.2</td>\n",
       "      <td>8.5</td>\n",
       "    </tr>\n",
       "    <tr>\n",
       "      <th>4</th>\n",
       "      <td>2019-01-01 04:00:00</td>\n",
       "      <td>2.2</td>\n",
       "      <td>0.2</td>\n",
       "      <td>31.6</td>\n",
       "      <td>6.6</td>\n",
       "      <td>10.0</td>\n",
       "    </tr>\n",
       "  </tbody>\n",
       "</table>\n",
       "</div>"
      ],
      "text/plain": [
       "                  Date  NO2    NO    O3  PM2.5  PM10\n",
       "0  2019-01-01 00:00:00  3.5   0.3  31.2    8.8  12.4\n",
       "1  2019-01-01 01:00:00  2.9   0.2  31.8    8.9  12.8\n",
       "2  2019-01-01 02:00:00  5.2  22.5  30.0    6.9  10.8\n",
       "3  2019-01-01 03:00:00  4.2   0.6  31.2    5.2   8.5\n",
       "4  2019-01-01 04:00:00  2.2   0.2  31.6    6.6  10.0"
      ]
     },
     "execution_count": 3,
     "metadata": {},
     "output_type": "execute_result"
    }
   ],
   "source": [
    "df_Rathmines_locf.head()"
   ]
  },
  {
   "cell_type": "code",
   "execution_count": 4,
   "metadata": {},
   "outputs": [
    {
     "data": {
      "text/html": [
       "<div>\n",
       "<style scoped>\n",
       "    .dataframe tbody tr th:only-of-type {\n",
       "        vertical-align: middle;\n",
       "    }\n",
       "\n",
       "    .dataframe tbody tr th {\n",
       "        vertical-align: top;\n",
       "    }\n",
       "\n",
       "    .dataframe thead th {\n",
       "        text-align: right;\n",
       "    }\n",
       "</style>\n",
       "<table border=\"1\" class=\"dataframe\">\n",
       "  <thead>\n",
       "    <tr style=\"text-align: right;\">\n",
       "      <th></th>\n",
       "      <th>NO2</th>\n",
       "      <th>NO</th>\n",
       "      <th>O3</th>\n",
       "      <th>PM2.5</th>\n",
       "      <th>PM10</th>\n",
       "    </tr>\n",
       "  </thead>\n",
       "  <tbody>\n",
       "    <tr>\n",
       "      <th>count</th>\n",
       "      <td>13048.000000</td>\n",
       "      <td>13048.000000</td>\n",
       "      <td>13048.000000</td>\n",
       "      <td>13048.000000</td>\n",
       "      <td>13048.000000</td>\n",
       "    </tr>\n",
       "    <tr>\n",
       "      <th>mean</th>\n",
       "      <td>9.984649</td>\n",
       "      <td>5.729345</td>\n",
       "      <td>24.518601</td>\n",
       "      <td>9.818861</td>\n",
       "      <td>12.652269</td>\n",
       "    </tr>\n",
       "    <tr>\n",
       "      <th>std</th>\n",
       "      <td>8.488814</td>\n",
       "      <td>14.915108</td>\n",
       "      <td>11.324632</td>\n",
       "      <td>11.698870</td>\n",
       "      <td>12.143456</td>\n",
       "    </tr>\n",
       "    <tr>\n",
       "      <th>min</th>\n",
       "      <td>0.000000</td>\n",
       "      <td>0.000000</td>\n",
       "      <td>0.000000</td>\n",
       "      <td>0.000000</td>\n",
       "      <td>0.000000</td>\n",
       "    </tr>\n",
       "    <tr>\n",
       "      <th>25%</th>\n",
       "      <td>4.000000</td>\n",
       "      <td>0.800000</td>\n",
       "      <td>17.300000</td>\n",
       "      <td>3.200000</td>\n",
       "      <td>5.700000</td>\n",
       "    </tr>\n",
       "    <tr>\n",
       "      <th>50%</th>\n",
       "      <td>7.600000</td>\n",
       "      <td>2.300000</td>\n",
       "      <td>25.800000</td>\n",
       "      <td>6.300000</td>\n",
       "      <td>9.400000</td>\n",
       "    </tr>\n",
       "    <tr>\n",
       "      <th>75%</th>\n",
       "      <td>13.300000</td>\n",
       "      <td>4.600000</td>\n",
       "      <td>32.700000</td>\n",
       "      <td>11.800000</td>\n",
       "      <td>15.200000</td>\n",
       "    </tr>\n",
       "    <tr>\n",
       "      <th>max</th>\n",
       "      <td>95.800000</td>\n",
       "      <td>473.400000</td>\n",
       "      <td>79.300000</td>\n",
       "      <td>197.700000</td>\n",
       "      <td>201.900000</td>\n",
       "    </tr>\n",
       "  </tbody>\n",
       "</table>\n",
       "</div>"
      ],
      "text/plain": [
       "                NO2            NO            O3         PM2.5          PM10\n",
       "count  13048.000000  13048.000000  13048.000000  13048.000000  13048.000000\n",
       "mean       9.984649      5.729345     24.518601      9.818861     12.652269\n",
       "std        8.488814     14.915108     11.324632     11.698870     12.143456\n",
       "min        0.000000      0.000000      0.000000      0.000000      0.000000\n",
       "25%        4.000000      0.800000     17.300000      3.200000      5.700000\n",
       "50%        7.600000      2.300000     25.800000      6.300000      9.400000\n",
       "75%       13.300000      4.600000     32.700000     11.800000     15.200000\n",
       "max       95.800000    473.400000     79.300000    197.700000    201.900000"
      ]
     },
     "execution_count": 4,
     "metadata": {},
     "output_type": "execute_result"
    }
   ],
   "source": [
    "df_Rathmines_locf.describe()"
   ]
  },
  {
   "cell_type": "code",
   "execution_count": 5,
   "metadata": {},
   "outputs": [
    {
     "name": "stdout",
     "output_type": "stream",
     "text": [
      "Date     0\n",
      "NO2      0\n",
      "NO       0\n",
      "O3       0\n",
      "PM2.5    0\n",
      "PM10     0\n",
      "dtype: int64\n",
      "Date     0\n",
      "NO2      0\n",
      "NO       0\n",
      "O3       0\n",
      "PM2.5    0\n",
      "PM10     0\n",
      "dtype: int64\n",
      "Date     0\n",
      "NO2      0\n",
      "NO       0\n",
      "O3       0\n",
      "PM2.5    0\n",
      "PM10     0\n",
      "dtype: int64\n"
     ]
    }
   ],
   "source": [
    "print(pd.isna(df_Rathmines_locf).sum())\n",
    "print(pd.isna(df_Rathmines_locf).sum())\n",
    "print(pd.isna(df_Rathmines_locf).sum())"
   ]
  },
  {
   "cell_type": "markdown",
   "metadata": {},
   "source": [
    "# Missing data handling"
   ]
  },
  {
   "cell_type": "code",
   "execution_count": 6,
   "metadata": {},
   "outputs": [],
   "source": [
    "# def missing_data_handling(df):    \n",
    "#     imputer = SimpleImputer(missing_values = np.NaN, strategy='median')\n",
    "#     imputer.fit(df)\n",
    "#     allValues = imputer.transform(df)\n",
    "#     print (allValues)\n",
    "#     df = pd.DataFrame(data = allValues, columns = df.columns)\n",
    "#     print(df)\n",
    "#     return df"
   ]
  },
  {
   "cell_type": "code",
   "execution_count": 7,
   "metadata": {},
   "outputs": [
    {
     "data": {
      "text/html": [
       "<div>\n",
       "<style scoped>\n",
       "    .dataframe tbody tr th:only-of-type {\n",
       "        vertical-align: middle;\n",
       "    }\n",
       "\n",
       "    .dataframe tbody tr th {\n",
       "        vertical-align: top;\n",
       "    }\n",
       "\n",
       "    .dataframe thead th {\n",
       "        text-align: right;\n",
       "    }\n",
       "</style>\n",
       "<table border=\"1\" class=\"dataframe\">\n",
       "  <thead>\n",
       "    <tr style=\"text-align: right;\">\n",
       "      <th></th>\n",
       "      <th>Date</th>\n",
       "      <th>NO2</th>\n",
       "      <th>NO</th>\n",
       "      <th>O3</th>\n",
       "      <th>PM2.5</th>\n",
       "      <th>PM10</th>\n",
       "    </tr>\n",
       "  </thead>\n",
       "  <tbody>\n",
       "    <tr>\n",
       "      <th>8760</th>\n",
       "      <td>2020-01-01 00:00:00</td>\n",
       "      <td>13.9</td>\n",
       "      <td>3.2</td>\n",
       "      <td>13.3</td>\n",
       "      <td>22.3</td>\n",
       "      <td>24.7</td>\n",
       "    </tr>\n",
       "    <tr>\n",
       "      <th>8761</th>\n",
       "      <td>2020-01-01 01:00:00</td>\n",
       "      <td>8.1</td>\n",
       "      <td>0.9</td>\n",
       "      <td>12.1</td>\n",
       "      <td>25.2</td>\n",
       "      <td>27.9</td>\n",
       "    </tr>\n",
       "    <tr>\n",
       "      <th>8762</th>\n",
       "      <td>2020-01-01 02:00:00</td>\n",
       "      <td>6.2</td>\n",
       "      <td>1.6</td>\n",
       "      <td>13.9</td>\n",
       "      <td>20.0</td>\n",
       "      <td>22.4</td>\n",
       "    </tr>\n",
       "    <tr>\n",
       "      <th>8763</th>\n",
       "      <td>2020-01-01 03:00:00</td>\n",
       "      <td>12.2</td>\n",
       "      <td>3.8</td>\n",
       "      <td>7.7</td>\n",
       "      <td>17.1</td>\n",
       "      <td>19.8</td>\n",
       "    </tr>\n",
       "    <tr>\n",
       "      <th>8764</th>\n",
       "      <td>2020-01-01 04:00:00</td>\n",
       "      <td>13.6</td>\n",
       "      <td>5.1</td>\n",
       "      <td>8.1</td>\n",
       "      <td>17.1</td>\n",
       "      <td>19.8</td>\n",
       "    </tr>\n",
       "    <tr>\n",
       "      <th>...</th>\n",
       "      <td>...</td>\n",
       "      <td>...</td>\n",
       "      <td>...</td>\n",
       "      <td>...</td>\n",
       "      <td>...</td>\n",
       "      <td>...</td>\n",
       "    </tr>\n",
       "    <tr>\n",
       "      <th>13043</th>\n",
       "      <td>2020-06-27 11:00:00</td>\n",
       "      <td>3.3</td>\n",
       "      <td>2.6</td>\n",
       "      <td>25.9</td>\n",
       "      <td>6.8</td>\n",
       "      <td>10.2</td>\n",
       "    </tr>\n",
       "    <tr>\n",
       "      <th>13044</th>\n",
       "      <td>2020-06-27 12:00:00</td>\n",
       "      <td>3.3</td>\n",
       "      <td>2.6</td>\n",
       "      <td>25.9</td>\n",
       "      <td>6.8</td>\n",
       "      <td>10.2</td>\n",
       "    </tr>\n",
       "    <tr>\n",
       "      <th>13045</th>\n",
       "      <td>2020-06-27 13:00:00</td>\n",
       "      <td>3.3</td>\n",
       "      <td>2.6</td>\n",
       "      <td>25.9</td>\n",
       "      <td>6.8</td>\n",
       "      <td>10.2</td>\n",
       "    </tr>\n",
       "    <tr>\n",
       "      <th>13046</th>\n",
       "      <td>2020-06-27 14:00:00</td>\n",
       "      <td>3.3</td>\n",
       "      <td>2.6</td>\n",
       "      <td>25.9</td>\n",
       "      <td>6.8</td>\n",
       "      <td>10.2</td>\n",
       "    </tr>\n",
       "    <tr>\n",
       "      <th>13047</th>\n",
       "      <td>2020-06-27 15:00:00</td>\n",
       "      <td>3.3</td>\n",
       "      <td>2.6</td>\n",
       "      <td>25.9</td>\n",
       "      <td>6.8</td>\n",
       "      <td>10.2</td>\n",
       "    </tr>\n",
       "  </tbody>\n",
       "</table>\n",
       "<p>4288 rows × 6 columns</p>\n",
       "</div>"
      ],
      "text/plain": [
       "                      Date   NO2   NO    O3  PM2.5  PM10\n",
       "8760   2020-01-01 00:00:00  13.9  3.2  13.3   22.3  24.7\n",
       "8761   2020-01-01 01:00:00   8.1  0.9  12.1   25.2  27.9\n",
       "8762   2020-01-01 02:00:00   6.2  1.6  13.9   20.0  22.4\n",
       "8763   2020-01-01 03:00:00  12.2  3.8   7.7   17.1  19.8\n",
       "8764   2020-01-01 04:00:00  13.6  5.1   8.1   17.1  19.8\n",
       "...                    ...   ...  ...   ...    ...   ...\n",
       "13043  2020-06-27 11:00:00   3.3  2.6  25.9    6.8  10.2\n",
       "13044  2020-06-27 12:00:00   3.3  2.6  25.9    6.8  10.2\n",
       "13045  2020-06-27 13:00:00   3.3  2.6  25.9    6.8  10.2\n",
       "13046  2020-06-27 14:00:00   3.3  2.6  25.9    6.8  10.2\n",
       "13047  2020-06-27 15:00:00   3.3  2.6  25.9    6.8  10.2\n",
       "\n",
       "[4288 rows x 6 columns]"
      ]
     },
     "execution_count": 7,
     "metadata": {},
     "output_type": "execute_result"
    }
   ],
   "source": [
    "# df_Rathmines.iloc[:8760, 1:] \n",
    "df_Rathmines_locf.iloc[8760:] "
   ]
  },
  {
   "cell_type": "code",
   "execution_count": 8,
   "metadata": {},
   "outputs": [],
   "source": [
    "# rathmines = missing_data_handling(df_Rathmines.iloc[:, 1:])\n",
    "# Limerick_Peoples_Park = missing_data_handling(df_Limerick_Peoples_Park.iloc[:, 1:])\n",
    "# Waterford = missing_data_handling(df_Waterford.iloc[:, 1:])"
   ]
  },
  {
   "cell_type": "code",
   "execution_count": 9,
   "metadata": {},
   "outputs": [],
   "source": [
    "# 2019 data\n",
    "rathmines_2019 = df_Rathmines_locf[:8760]\n",
    "Limerick_Peoples_Park_2019 = df_Limerick_Peoples_Park_locf[:8760]\n",
    "Waterford_2019 =  df_Waterford_locf[:8760]\n",
    "\n",
    "# 2020 data\n",
    "rathmines_2020 = df_Rathmines_locf.iloc[8760:] \n",
    "Limerick_Peoples_Park_2020 = df_Limerick_Peoples_Park_locf.iloc[8760:] \n",
    "Waterford_2020 =  df_Waterford_locf.iloc[8760:] "
   ]
  },
  {
   "cell_type": "code",
   "execution_count": 10,
   "metadata": {},
   "outputs": [
    {
     "name": "stdout",
     "output_type": "stream",
     "text": [
      "                      Date  NO2   NO    O3  PM2.5  PM10\n",
      "0      2019-01-01 00:00:00  4.2  2.4  27.0    6.3  10.7\n",
      "1      2019-01-01 01:00:00  4.2  2.4  27.0    6.3  10.7\n",
      "2      2019-01-01 02:00:00  4.2  2.4  27.0    6.3  10.7\n",
      "3      2019-01-01 03:00:00  4.2  2.4  27.0    6.3  10.7\n",
      "4      2019-01-01 04:00:00  4.2  2.4  27.0    6.3  10.7\n",
      "...                    ...  ...  ...   ...    ...   ...\n",
      "13043  2020-06-27 11:00:00  2.4  2.6  24.6    1.8   4.3\n",
      "13044  2020-06-27 12:00:00  1.9  2.3  26.9    2.1   4.5\n",
      "13045  2020-06-27 13:00:00  1.7  2.0  28.6    2.8   6.5\n",
      "13046  2020-06-27 14:00:00  1.8  2.0  27.3    2.6   6.7\n",
      "13047  2020-06-27 15:00:00  1.5  2.3  25.0    2.7   7.1\n",
      "\n",
      "[13048 rows x 6 columns]\n"
     ]
    }
   ],
   "source": [
    "# print(df_Rathmines_locf)\n",
    "# print(rathmines_2019)\n",
    "# print(rathmines_2020)\n",
    "\n",
    "print(df_Limerick_Peoples_Park_locf)"
   ]
  },
  {
   "cell_type": "markdown",
   "metadata": {},
   "source": [
    "# Evaluation Function"
   ]
  },
  {
   "cell_type": "code",
   "execution_count": 11,
   "metadata": {},
   "outputs": [],
   "source": [
    "#Model Evaluation\n",
    "\n",
    "def Evaluation(model, x_test, y_test,x,y):\n",
    "    #Prediction of test set\n",
    "    y_pred_mlr= model.predict(x_test)\n",
    "\n",
    "    meanAbErr = metrics.mean_absolute_error(y_test, y_pred_mlr)\n",
    "    meanSqErr = metrics.mean_squared_error(y_test, y_pred_mlr)\n",
    "    rootMeanSqErr = np.sqrt(metrics.mean_squared_error(y_test, y_pred_mlr))\n",
    "    adjustedRsquare = 1 - ( 1-model.score(x, y) ) * ( len(y) - 1 ) / ( len(y) - x.shape[1] - 1 )\n",
    "\n",
    "    print('R squared: {:.2f}'.format(model.score(x,y)*100))\n",
    "    print('Mean Absolute Error:', meanAbErr)\n",
    "    print('Mean Square Error:', meanSqErr)\n",
    "    print('Root Mean Square Error:', rootMeanSqErr)\n",
    "    print('Adjusted R squared:', adjustedRsquare, \"\\n\")\n",
    "    "
   ]
  },
  {
   "cell_type": "markdown",
   "metadata": {},
   "source": [
    "### OLS stats model"
   ]
  },
  {
   "cell_type": "code",
   "execution_count": 12,
   "metadata": {},
   "outputs": [
    {
     "data": {
      "text/html": [
       "<table class=\"simpletable\">\n",
       "<caption>OLS Regression Results</caption>\n",
       "<tr>\n",
       "  <th>Dep. Variable:</th>           <td>NO2</td>       <th>  R-squared (uncentered):</th>      <td>   0.751</td> \n",
       "</tr>\n",
       "<tr>\n",
       "  <th>Model:</th>                   <td>OLS</td>       <th>  Adj. R-squared (uncentered):</th> <td>   0.751</td> \n",
       "</tr>\n",
       "<tr>\n",
       "  <th>Method:</th>             <td>Least Squares</td>  <th>  F-statistic:       </th>          <td>   9827.</td> \n",
       "</tr>\n",
       "<tr>\n",
       "  <th>Date:</th>             <td>Wed, 25 Aug 2021</td> <th>  Prob (F-statistic):</th>           <td>  0.00</td>  \n",
       "</tr>\n",
       "<tr>\n",
       "  <th>Time:</th>                 <td>11:54:10</td>     <th>  Log-Likelihood:    </th>          <td> -43021.</td> \n",
       "</tr>\n",
       "<tr>\n",
       "  <th>No. Observations:</th>      <td> 13048</td>      <th>  AIC:               </th>          <td>8.605e+04</td>\n",
       "</tr>\n",
       "<tr>\n",
       "  <th>Df Residuals:</th>          <td> 13044</td>      <th>  BIC:               </th>          <td>8.608e+04</td>\n",
       "</tr>\n",
       "<tr>\n",
       "  <th>Df Model:</th>              <td>     4</td>      <th>                     </th>              <td> </td>    \n",
       "</tr>\n",
       "<tr>\n",
       "  <th>Covariance Type:</th>      <td>nonrobust</td>    <th>                     </th>              <td> </td>    \n",
       "</tr>\n",
       "</table>\n",
       "<table class=\"simpletable\">\n",
       "<tr>\n",
       "    <td></td>       <th>coef</th>     <th>std err</th>      <th>t</th>      <th>P>|t|</th>  <th>[0.025</th>    <th>0.975]</th>  \n",
       "</tr>\n",
       "<tr>\n",
       "  <th>NO</th>    <td>    0.2893</td> <td>    0.004</td> <td>   69.345</td> <td> 0.000</td> <td>    0.281</td> <td>    0.298</td>\n",
       "</tr>\n",
       "<tr>\n",
       "  <th>O3</th>    <td>    0.0210</td> <td>    0.003</td> <td>    6.350</td> <td> 0.000</td> <td>    0.014</td> <td>    0.027</td>\n",
       "</tr>\n",
       "<tr>\n",
       "  <th>PM2.5</th> <td>   -0.8344</td> <td>    0.029</td> <td>  -28.698</td> <td> 0.000</td> <td>   -0.891</td> <td>   -0.777</td>\n",
       "</tr>\n",
       "<tr>\n",
       "  <th>PM10</th>  <td>    1.1615</td> <td>    0.027</td> <td>   42.378</td> <td> 0.000</td> <td>    1.108</td> <td>    1.215</td>\n",
       "</tr>\n",
       "</table>\n",
       "<table class=\"simpletable\">\n",
       "<tr>\n",
       "  <th>Omnibus:</th>       <td>2564.384</td> <th>  Durbin-Watson:     </th> <td>   0.377</td> \n",
       "</tr>\n",
       "<tr>\n",
       "  <th>Prob(Omnibus):</th>  <td> 0.000</td>  <th>  Jarque-Bera (JB):  </th> <td>56657.791</td>\n",
       "</tr>\n",
       "<tr>\n",
       "  <th>Skew:</th>           <td>-0.360</td>  <th>  Prob(JB):          </th> <td>    0.00</td> \n",
       "</tr>\n",
       "<tr>\n",
       "  <th>Kurtosis:</th>       <td>13.183</td>  <th>  Cond. No.          </th> <td>    22.3</td> \n",
       "</tr>\n",
       "</table><br/><br/>Warnings:<br/>[1] Standard Errors assume that the covariance matrix of the errors is correctly specified."
      ],
      "text/plain": [
       "<class 'statsmodels.iolib.summary.Summary'>\n",
       "\"\"\"\n",
       "                                 OLS Regression Results                                \n",
       "=======================================================================================\n",
       "Dep. Variable:                    NO2   R-squared (uncentered):                   0.751\n",
       "Model:                            OLS   Adj. R-squared (uncentered):              0.751\n",
       "Method:                 Least Squares   F-statistic:                              9827.\n",
       "Date:                Wed, 25 Aug 2021   Prob (F-statistic):                        0.00\n",
       "Time:                        11:54:10   Log-Likelihood:                         -43021.\n",
       "No. Observations:               13048   AIC:                                  8.605e+04\n",
       "Df Residuals:                   13044   BIC:                                  8.608e+04\n",
       "Df Model:                           4                                                  \n",
       "Covariance Type:            nonrobust                                                  \n",
       "==============================================================================\n",
       "                 coef    std err          t      P>|t|      [0.025      0.975]\n",
       "------------------------------------------------------------------------------\n",
       "NO             0.2893      0.004     69.345      0.000       0.281       0.298\n",
       "O3             0.0210      0.003      6.350      0.000       0.014       0.027\n",
       "PM2.5         -0.8344      0.029    -28.698      0.000      -0.891      -0.777\n",
       "PM10           1.1615      0.027     42.378      0.000       1.108       1.215\n",
       "==============================================================================\n",
       "Omnibus:                     2564.384   Durbin-Watson:                   0.377\n",
       "Prob(Omnibus):                  0.000   Jarque-Bera (JB):            56657.791\n",
       "Skew:                          -0.360   Prob(JB):                         0.00\n",
       "Kurtosis:                      13.183   Cond. No.                         22.3\n",
       "==============================================================================\n",
       "\n",
       "Warnings:\n",
       "[1] Standard Errors assume that the covariance matrix of the errors is correctly specified.\n",
       "\"\"\""
      ]
     },
     "execution_count": 12,
     "metadata": {},
     "output_type": "execute_result"
    }
   ],
   "source": [
    "import statsmodels.api as sm\n",
    "\n",
    "x = df_Rathmines_locf[['NO', 'O3', 'PM2.5', 'PM10']]\n",
    "y = df_Rathmines_locf[[\"NO2\"]]\n",
    "\n",
    "# Note the difference in argument order\n",
    "model = sm.OLS(y, x).fit()\n",
    "predictions = model.predict(x) # make the predictions by the model\n",
    "\n",
    "# Print out the statistics\n",
    "model.summary()"
   ]
  },
  {
   "cell_type": "markdown",
   "metadata": {},
   "source": [
    "### Multiple Linear Regression"
   ]
  },
  {
   "cell_type": "code",
   "execution_count": 92,
   "metadata": {},
   "outputs": [],
   "source": [
    "# def LR(df,scaling):\n",
    "#     # Split the dataset into 20% test and 80% training data\n",
    "#     x = df[['NO', 'O3', 'PM2.5', 'PM10']]\n",
    "#     y = df[['NO2']]\n",
    "    \n",
    "    \n",
    "#     if(scaling == \"Standard Scaling\"):\n",
    "#         print(\"Standard Scaling\")\n",
    "#        # standard scaling\n",
    "#         scaler = StandardScaler()\n",
    "#         scaled_x = scaler.fit_transform(x)\n",
    "#         x_train, x_test, y_train, y_test = model_selection.train_test_split(scaled_x, y, test_size=0.2,random_state=4)\n",
    "#     elif(scaling == \"Normalizing\"):\n",
    "#         print(\"Normalizing\")\n",
    "#         # Normalizing\n",
    "#         normalized_x = normalize(x)\n",
    "#         x_train, x_test, y_train, y_test = model_selection.train_test_split(normalized_x, y, test_size=0.2,random_state=4)\n",
    "#     else:\n",
    "#         print(\"Original Data\")\n",
    "#          #     train_x, test_x, train_y, test_y\n",
    "#         x_train, x_test, y_train, y_test = model_selection.train_test_split( x, y, test_size=0.2,random_state=4)\n",
    "\n",
    "#     mlr = LinearRegression()  \n",
    "#     mlr.fit(x_train, y_train)\n",
    "#     print(mlr.score(x_test,y_test))\n",
    "    \n",
    "#     #Intercept and Coefficient\n",
    "# #     print(\"Intercept: \", mlr.intercept_)\n",
    "# #     print(\"Coefficients:\")\n",
    "# #     print(list(zip(x, mlr.coef_)))\n",
    "    \n",
    "#     Evaluation(mlr, x_test, y_test,x,y)\n",
    "#     return mlr.score(x_test,y_test)"
   ]
  },
  {
   "cell_type": "code",
   "execution_count": 79,
   "metadata": {},
   "outputs": [],
   "source": [
    "# # The lm.fit() function fits a linear model. We want to use the model to make predictions \n",
    "# # (that’s what we’re here for!), so we’ll use lm.predict()\n",
    "# predictions = lm.predict(X)\n",
    "# print(predictions[0:5])"
   ]
  },
  {
   "cell_type": "markdown",
   "metadata": {},
   "source": [
    "# Random Forest"
   ]
  },
  {
   "cell_type": "code",
   "execution_count": 94,
   "metadata": {},
   "outputs": [],
   "source": [
    "# def Random_Forest(df,scaling):\n",
    "#     # Split the dataset into 20% test and 80% training data\n",
    "#     x = df[['NO', 'O3', 'PM2.5', 'PM10']]\n",
    "#     y = df[['NO2']]\n",
    "    \n",
    "    \n",
    "#     if(scaling == \"Standard Scaling\"):\n",
    "#         print(\"Standard Scaling\")\n",
    "#        # standard scaling\n",
    "#         scaler = StandardScaler()\n",
    "#         scaled_x = scaler.fit_transform(x)\n",
    "#         x_train, x_test, y_train, y_test = model_selection.train_test_split(scaled_x, y, test_size=0.2,random_state=4)\n",
    "#     elif(scaling == \"Normalizing\"):\n",
    "#         print(\"Normalizing\")\n",
    "#         # Normalizing\n",
    "#         normalized_x = normalize(x)\n",
    "#         x_train, x_test, y_train, y_test = model_selection.train_test_split(normalized_x, y, test_size=0.2,random_state=4)\n",
    "#     else:\n",
    "#         print(\"Original Data\")\n",
    "#          #     train_x, test_x, train_y, test_y\n",
    "#         x_train, x_test, y_train, y_test = model_selection.train_test_split( x, y, test_size=0.2,random_state=4)\n",
    "\n",
    "#     RFC = RandomForestRegressor()\n",
    "# #     RFC = RandomForestRegressor(min_samples_leaf= 3, min_samples_split= 3, n_estimators= 20)\n",
    "#     RFC.fit(x_train, y_train)\n",
    "#     print(RFC.score(x_test,y_test))\n",
    "#     Evaluation(RFC, x_test, y_test,x,y)\n",
    "#     return RFC.score(x_test,y_test)"
   ]
  },
  {
   "cell_type": "markdown",
   "metadata": {},
   "source": [
    "# SVM"
   ]
  },
  {
   "cell_type": "code",
   "execution_count": 97,
   "metadata": {},
   "outputs": [],
   "source": [
    "# def SVM_regression(df, scaling):\n",
    "#     # Split the dataset into 20% test and 80% training data\n",
    "#     x = df[['NO', 'O3', 'PM2.5', 'PM10']]\n",
    "#     y = df[['NO2']]\n",
    "    \n",
    "#     if(scaling == \"Standard Scaling\"):\n",
    "#         print(\"Standard Scaling\")\n",
    "#        # standard scaling\n",
    "#         scaler = StandardScaler()\n",
    "#         scaled_x = scaler.fit_transform(x)\n",
    "#         x_train, x_test, y_train, y_test = model_selection.train_test_split(scaled_x, y, test_size=0.2,random_state=4)\n",
    "#     elif(scaling == \"Normalizing\"):\n",
    "#         print(\"Normalizing\")\n",
    "#         # Normalizing\n",
    "#         normalized_x = normalize(x)\n",
    "#         x_train, x_test, y_train, y_test = model_selection.train_test_split(normalized_x, y, test_size=0.2,random_state=4)\n",
    "#     else:\n",
    "#         print(\"Original Data\")\n",
    "#          #     train_x, test_x, train_y, test_y\n",
    "#         x_train, x_test, y_train, y_test = model_selection.train_test_split( x, y, test_size=0.2,random_state=4)\n",
    "        \n",
    "#     SVM_Model = SVR()\n",
    "#     SVM_Model.fit(x_train,y_train)\n",
    "#     print(SVM_Model.score(x_test,y_test))\n",
    "#     Evaluation(SVM_Model, x_test, y_test,x,y)\n",
    "#     return SVM_Model.score(x_test,y_test)"
   ]
  },
  {
   "cell_type": "markdown",
   "metadata": {},
   "source": [
    "# K Nearest Neighbour"
   ]
  },
  {
   "cell_type": "code",
   "execution_count": 102,
   "metadata": {},
   "outputs": [],
   "source": [
    "# def lin_reg_knn(df,scaling):\n",
    "#     # Split the dataset into 20% test and 80% training data\n",
    "#     x = df[['NO', 'O3', 'PM2.5', 'PM10']]\n",
    "#     y = df[['NO2']]\n",
    "    \n",
    "#     if(scaling == \"Standard Scaling\"):\n",
    "#         print(\"Standard Scaling\")\n",
    "#        # standard scaling\n",
    "#         scaler = StandardScaler()\n",
    "#         scaled_x = scaler.fit_transform(x)\n",
    "#         x_train, x_test, y_train, y_test = model_selection.train_test_split(scaled_x, y, test_size=0.2,random_state=4)\n",
    "#     elif(scaling == \"Normalizing\"):\n",
    "#         print(\"Normalizing\")\n",
    "#         # Normalizing\n",
    "#         normalized_x = normalize(x)\n",
    "#         x_train, x_test, y_train, y_test = model_selection.train_test_split(normalized_x, y, test_size=0.2,random_state=4)\n",
    "#     else:\n",
    "#         print(\"Original Data\")\n",
    "#          #     train_x, test_x, train_y, test_y\n",
    "#         x_train, x_test, y_train, y_test = model_selection.train_test_split( x, y, test_size=0.2,random_state=4)\n",
    "        \n",
    "#     reg = KNeighborsRegressor()\n",
    "#     reg = reg.fit(x_train,y_train)\n",
    "#     print (reg.score(x_test,y_test)) \n",
    "#     Evaluation(reg, x_test, y_test,x,y)\n",
    "#     return reg.score(x_test,y_test)"
   ]
  },
  {
   "cell_type": "markdown",
   "metadata": {},
   "source": [
    "# Linear Regression Model"
   ]
  },
  {
   "cell_type": "code",
   "execution_count": 17,
   "metadata": {},
   "outputs": [],
   "source": [
    "from sklearn.linear_model import LinearRegression\n",
    "from sklearn.ensemble import RandomForestRegressor\n",
    "from sklearn.neighbors import KNeighborsRegressor\n",
    "from sklearn.svm import SVR\n",
    "\n",
    "def Linear_regression(df,scaling,modelName):\n",
    "    # Split the dataset into 20% test and 80% training data\n",
    "    x = df[['NO', 'O3', 'PM2.5', 'PM10']]\n",
    "    y = df[['NO2']]\n",
    "    \n",
    "    \n",
    "    if(scaling == \"Standard Scaling\"):\n",
    "        print(\"Standard Scaling\")\n",
    "       # standard scaling\n",
    "        scaler = StandardScaler()\n",
    "        scaled_x = scaler.fit_transform(x)\n",
    "        x_train, x_test, y_train, y_test = model_selection.train_test_split(scaled_x, y, test_size=0.2,random_state=4)\n",
    "    elif(scaling == \"Normalizing\"):\n",
    "        print(\"Normalizing\")\n",
    "        # Normalizing\n",
    "        normalized_x = normalize(x)\n",
    "        x_train, x_test, y_train, y_test = model_selection.train_test_split(normalized_x, y, test_size=0.2,random_state=4)\n",
    "    else:\n",
    "        print(\"Original Data\")\n",
    "         #     train_x, test_x, train_y, test_y\n",
    "        x_train, x_test, y_train, y_test = model_selection.train_test_split( x, y, test_size=0.2,random_state=4)\n",
    "\n",
    "    if(modelName == \"RandomForestRegressor\"):\n",
    "        print(\"RandomForestRegressor\")\n",
    "        model = RandomForestRegressor()\n",
    "    elif(modelName == \"SVR\"):\n",
    "        print(\"SVR\")\n",
    "        model = SVR()\n",
    "    elif(modelName == \"KNeighborsRegressor\"):\n",
    "        print(\"KNeighborsRegressor\")\n",
    "        model = KNeighborsRegressor()\n",
    "    else:\n",
    "        print(\"LinearRegression\")\n",
    "        model = LinearRegression()\n",
    "    \n",
    "    \n",
    "    model.fit(x_train, y_train)\n",
    "    print(model.score(x_test,y_test))\n",
    "    Evaluation(model, x_test, y_test,x,y)\n",
    "    return model.score(x_test,y_test)"
   ]
  },
  {
   "cell_type": "code",
   "execution_count": 105,
   "metadata": {},
   "outputs": [],
   "source": [
    "# def main():\n",
    "# #     LR\n",
    "# #     lin_reg_knn\n",
    "# #     SVM_regression\n",
    "# #     Random_Forest\n",
    "\n",
    "\n",
    "#     # 2019 data only\n",
    "#     print(\"\\nAccuracy of NO2 of 2019 data is\")\n",
    "#     LR(rathmines_2019,\"\")\n",
    "#     lin_reg_knn(rathmines_2019,\"\")\n",
    "#     SVM_regression(rathmines_2019,\"\")\n",
    "#     Random_Forest(rathmines_2019,\"\")\n",
    "    \n",
    "#     LR(rathmines_2019,\"Standard Scaling\")\n",
    "#     lin_reg_knn(rathmines_2019,\"Standard Scaling\")\n",
    "#     SVM_regression(rathmines_2019,\"Standard Scaling\")\n",
    "#     Random_Forest(rathmines_2019,\"Standard Scaling\")\n",
    "    \n",
    "#     LR(rathmines_2019,\"Normalizing\")\n",
    "#     lin_reg_knn(rathmines_2019,\"Normalizing\")\n",
    "#     SVM_regression(rathmines_2019,\"Normalizing\")\n",
    "#     Random_Forest(rathmines_2019,\"Normalizing\")\n",
    "\n",
    "# main()"
   ]
  },
  {
   "cell_type": "markdown",
   "metadata": {},
   "source": [
    "# Plots"
   ]
  },
  {
   "cell_type": "code",
   "execution_count": 16,
   "metadata": {},
   "outputs": [
    {
     "name": "stdout",
     "output_type": "stream",
     "text": [
      "Original Data\n",
      "0.5839161686659482\n",
      "R squared: 61.54\n",
      "Mean Absolute Error: 4.197483129298954\n",
      "Mean Square Error: 33.422038897151204\n",
      "Root Mean Square Error: 5.781179715002052\n",
      "Adjusted R squared: 0.6152156521870801 \n",
      "\n",
      "Original Data\n",
      "KNeighborsRegressor\n",
      "0.7300463067254133\n",
      "R squared: 81.66\n",
      "Mean Absolute Error: 3.2017351598173516\n",
      "Mean Square Error: 21.684098630136987\n",
      "Root Mean Square Error: 4.656618798026845\n",
      "Adjusted R squared: 0.8165656774906175 \n",
      "\n",
      "Original Data\n",
      "SVR\n"
     ]
    },
    {
     "name": "stderr",
     "output_type": "stream",
     "text": [
      "C:\\Users\\vedan\\anaconda3\\lib\\site-packages\\sklearn\\utils\\validation.py:760: DataConversionWarning: A column-vector y was passed when a 1d array was expected. Please change the shape of y to (n_samples, ), for example using ravel().\n",
      "  y = column_or_1d(y, warn=True)\n"
     ]
    },
    {
     "name": "stdout",
     "output_type": "stream",
     "text": [
      "0.7072174833825524\n",
      "R squared: 72.81\n",
      "Mean Absolute Error: 3.3237615744312317\n",
      "Mean Square Error: 23.517829634043082\n",
      "Root Mean Square Error: 4.849518495071761\n",
      "Adjusted R squared: 0.7279264994969638 \n",
      "\n",
      "Original Data\n",
      "RandomForestRegressor\n"
     ]
    },
    {
     "name": "stderr",
     "output_type": "stream",
     "text": [
      "C:\\Users\\vedan\\anaconda3\\lib\\site-packages\\ipykernel_launcher.py:42: DataConversionWarning: A column-vector y was passed when a 1d array was expected. Please change the shape of y to (n_samples,), for example using ravel().\n"
     ]
    },
    {
     "name": "stdout",
     "output_type": "stream",
     "text": [
      "0.7503101914972842\n",
      "R squared: 92.30\n",
      "Mean Absolute Error: 3.0637983202870194\n",
      "Mean Square Error: 20.056396965110924\n",
      "Root Mean Square Error: 4.478436888593041\n",
      "Adjusted R squared: 0.9229408753705461 \n",
      "\n",
      "Original Data\n",
      "0.6735058491496628\n",
      "R squared: 66.93\n",
      "Mean Absolute Error: 1.245043405386168\n",
      "Mean Square Error: 6.191501042941036\n",
      "Root Mean Square Error: 2.488272702687757\n",
      "Adjusted R squared: 0.6691813210142479 \n",
      "\n",
      "Original Data\n",
      "KNeighborsRegressor\n",
      "0.8164847673639458\n",
      "R squared: 86.32\n",
      "Mean Absolute Error: 0.7879109589041097\n",
      "Mean Square Error: 3.4801075342465753\n",
      "Root Mean Square Error: 1.8655046325985296\n",
      "Adjusted R squared: 0.8631185517206518 \n",
      "\n",
      "Original Data\n",
      "SVR\n"
     ]
    },
    {
     "name": "stderr",
     "output_type": "stream",
     "text": [
      "C:\\Users\\vedan\\anaconda3\\lib\\site-packages\\sklearn\\utils\\validation.py:760: DataConversionWarning: A column-vector y was passed when a 1d array was expected. Please change the shape of y to (n_samples, ), for example using ravel().\n",
      "  y = column_or_1d(y, warn=True)\n"
     ]
    },
    {
     "name": "stdout",
     "output_type": "stream",
     "text": [
      "0.8144039375183962\n",
      "R squared: 80.98\n",
      "Mean Absolute Error: 0.8065141089326304\n",
      "Mean Square Error: 3.51956753720635\n",
      "Root Mean Square Error: 1.8760510486674795\n",
      "Adjusted R squared: 0.8097448160969837 \n",
      "\n",
      "Original Data\n",
      "RandomForestRegressor\n"
     ]
    },
    {
     "name": "stderr",
     "output_type": "stream",
     "text": [
      "C:\\Users\\vedan\\anaconda3\\lib\\site-packages\\ipykernel_launcher.py:42: DataConversionWarning: A column-vector y was passed when a 1d array was expected. Please change the shape of y to (n_samples,), for example using ravel().\n"
     ]
    },
    {
     "name": "stdout",
     "output_type": "stream",
     "text": [
      "0.8462925255896321\n",
      "R squared: 95.06\n",
      "Mean Absolute Error: 0.6980593607306482\n",
      "Mean Square Error: 2.914845444063927\n",
      "Root Mean Square Error: 1.7072918450176955\n",
      "Adjusted R squared: 0.9505602499533194 \n",
      "\n",
      "Original Data\n",
      "0.5506326050460646\n",
      "R squared: 51.93\n",
      "Mean Absolute Error: 1.7814445076893008\n",
      "Mean Square Error: 7.601287491213606\n",
      "Root Mean Square Error: 2.7570432516037187\n",
      "Adjusted R squared: 0.5190550354520673 \n",
      "\n",
      "Original Data\n",
      "KNeighborsRegressor\n",
      "0.7268701231108798\n",
      "R squared: 77.67\n",
      "Mean Absolute Error: 1.334771689497717\n",
      "Mean Square Error: 4.620136529680365\n",
      "Root Mean Square Error: 2.1494502854637894\n",
      "Adjusted R squared: 0.7765636193574728 \n",
      "\n",
      "Original Data\n",
      "SVR\n"
     ]
    },
    {
     "name": "stderr",
     "output_type": "stream",
     "text": [
      "C:\\Users\\vedan\\anaconda3\\lib\\site-packages\\sklearn\\utils\\validation.py:760: DataConversionWarning: A column-vector y was passed when a 1d array was expected. Please change the shape of y to (n_samples, ), for example using ravel().\n",
      "  y = column_or_1d(y, warn=True)\n"
     ]
    },
    {
     "name": "stdout",
     "output_type": "stream",
     "text": [
      "0.5899444641765373\n",
      "R squared: 60.79\n",
      "Mean Absolute Error: 1.4704681535812325\n",
      "Mean Square Error: 6.936306572659322\n",
      "Root Mean Square Error: 2.6336868782486884\n",
      "Adjusted R squared: 0.6077631055283426 \n",
      "\n",
      "Original Data\n",
      "RandomForestRegressor\n"
     ]
    },
    {
     "name": "stderr",
     "output_type": "stream",
     "text": [
      "C:\\Users\\vedan\\anaconda3\\lib\\site-packages\\ipykernel_launcher.py:42: DataConversionWarning: A column-vector y was passed when a 1d array was expected. Please change the shape of y to (n_samples,), for example using ravel().\n"
     ]
    },
    {
     "name": "stdout",
     "output_type": "stream",
     "text": [
      "0.7921258865483899\n",
      "R squared: 92.76\n",
      "Mean Absolute Error: 1.1353982102087419\n",
      "Mean Square Error: 3.516300728691762\n",
      "Root Mean Square Error: 1.8751801856599706\n",
      "Adjusted R squared: 0.9276071464133664 \n",
      "\n"
     ]
    },
    {
     "data": {
      "image/png": "[encoded data removed]",
      "text/plain": [
       "<Figure size 864x576 with 1 Axes>"
      ]
     },
     "metadata": {
      "needs_background": "light"
     },
     "output_type": "display_data"
    }
   ],
   "source": [
    "# NO2 accuracy for year 2019\n",
    "\n",
    "# set width of bar\n",
    "barWidth = 0.25\n",
    "fig = plt.subplots(figsize =(12, 8))\n",
    "\n",
    "# set height of bar\n",
    "Rathmines = [Linear_regression(rathmines_2019,\"\",\"LinearRegression\")*100,\n",
    "    Linear_regression(rathmines_2019,\"\",\"KNeighborsRegressor\")*100,\n",
    "    Linear_regression(rathmines_2019,\"\",\"SVR\")*100,\n",
    "    Linear_regression(rathmines_2019,\"\",\"RandomForestRegressor\")*100]\n",
    "Limerick = [Linear_regression(Limerick_Peoples_Park_2019,\"\",\"LinearRegression\")*100,\n",
    "    Linear_regression(Limerick_Peoples_Park_2019,\"\",\"KNeighborsRegressor\")*100,\n",
    "    Linear_regression(Limerick_Peoples_Park_2019,\"\",\"SVR\")*100,\n",
    "    Linear_regression(Limerick_Peoples_Park_2019,\"\",\"RandomForestRegressor\")*100]\n",
    "Waterford = [Linear_regression(Waterford_2019,\"\",\"LinearRegression\")*100,\n",
    "    Linear_regression(Waterford_2019,\"\",\"KNeighborsRegressor\")*100,\n",
    "    Linear_regression(Waterford_2019,\"\",\"SVR\")*100,\n",
    "    Linear_regression(Waterford_2019,\"\",\"RandomForestRegressor\")*100]\n",
    "\n",
    "# Set position of bar on X axis\n",
    "br1 = np.arange(len(Rathmines))\n",
    "br2 = [x + barWidth for x in br1]\n",
    "br3 = [x + barWidth for x in br2]\n",
    "\n",
    "# Make the plot\n",
    "plt.bar(br1, Rathmines, width = barWidth,\n",
    "\t\tedgecolor ='grey', label ='Rathmines') # , color ='r'\n",
    "plt.bar(br2, Limerick, width = barWidth,\n",
    "\t\tedgecolor ='grey', label ='Limerick Peoples Park') # , color ='g'\n",
    "plt.bar(br3, Waterford, width = barWidth,\n",
    "\t\tedgecolor ='grey', label ='Waterford') # , color ='b'\n",
    "\n",
    "# Adding Xticks\n",
    "plt.xlabel('Models', fontweight ='bold', fontsize = 15)\n",
    "plt.ylabel('NO2 accuracy', fontweight ='bold', fontsize = 15)\n",
    "plt.xticks([r + barWidth for r in range(len(Rathmines))],\n",
    "\t\t['Linear Regression','Random Forest','KNN','SVM'])\n",
    "plt.ylim(0,100)\n",
    "plt.title(\"NO2 accuracy for year 2019\")\n",
    "\n",
    "plt.legend()\n",
    "plt.show()\n"
   ]
  },
  {
   "cell_type": "code",
   "execution_count": 18,
   "metadata": {},
   "outputs": [
    {
     "name": "stdout",
     "output_type": "stream",
     "text": [
      "Original Data\n",
      "LinearRegression\n",
      "0.7440490159820177\n",
      "R squared: 67.47\n",
      "Mean Absolute Error: 2.6984768656298277\n",
      "Mean Square Error: 13.4400585755642\n",
      "Root Mean Square Error: 3.6660685448534918\n",
      "Adjusted R squared: 0.6744248522201861 \n",
      "\n",
      "Original Data\n",
      "KNeighborsRegressor\n",
      "0.7726979736072416\n",
      "R squared: 82.18\n",
      "Mean Absolute Error: 2.2295804195804196\n",
      "Mean Square Error: 11.935693706293705\n",
      "Root Mean Square Error: 3.454807332731263\n",
      "Adjusted R squared: 0.8216802899205191 \n",
      "\n",
      "Original Data\n",
      "SVR\n"
     ]
    },
    {
     "name": "stderr",
     "output_type": "stream",
     "text": [
      "C:\\Users\\vedan\\anaconda3\\lib\\site-packages\\sklearn\\utils\\validation.py:760: DataConversionWarning: A column-vector y was passed when a 1d array was expected. Please change the shape of y to (n_samples, ), for example using ravel().\n",
      "  y = column_or_1d(y, warn=True)\n"
     ]
    },
    {
     "name": "stdout",
     "output_type": "stream",
     "text": [
      "0.7514737608663443\n",
      "R squared: 73.23\n",
      "Mean Absolute Error: 2.2571255123819673\n",
      "Mean Square Error: 13.050183121336758\n",
      "Root Mean Square Error: 3.6125037192142457\n",
      "Adjusted R squared: 0.7320219981785627 \n",
      "\n",
      "Original Data\n",
      "RandomForestRegressor\n"
     ]
    },
    {
     "name": "stderr",
     "output_type": "stream",
     "text": [
      "C:\\Users\\vedan\\anaconda3\\lib\\site-packages\\ipykernel_launcher.py:43: DataConversionWarning: A column-vector y was passed when a 1d array was expected. Please change the shape of y to (n_samples,), for example using ravel().\n"
     ]
    },
    {
     "name": "stdout",
     "output_type": "stream",
     "text": [
      "0.8026503170857943\n",
      "R squared: 93.38\n",
      "Mean Absolute Error: 2.0766212121212124\n",
      "Mean Square Error: 10.36288767715618\n",
      "Root Mean Square Error: 3.2191439354518123\n",
      "Adjusted R squared: 0.9337826240360623 \n",
      "\n",
      "Original Data\n",
      "LinearRegression\n",
      "0.6760656796661101\n",
      "R squared: 67.01\n",
      "Mean Absolute Error: 2.2261764483951376\n",
      "Mean Square Error: 11.036034157055012\n",
      "Root Mean Square Error: 3.322052702329542\n",
      "Adjusted R squared: 0.6697921674996697 \n",
      "\n",
      "Original Data\n",
      "KNeighborsRegressor\n",
      "0.8246078174632044\n",
      "R squared: 85.81\n",
      "Mean Absolute Error: 1.6168065268065268\n",
      "Mean Square Error: 5.975390675990677\n",
      "Root Mean Square Error: 2.4444612240718153\n",
      "Adjusted R squared: 0.8579246111714837 \n",
      "\n",
      "Original Data\n",
      "SVR\n"
     ]
    },
    {
     "name": "stderr",
     "output_type": "stream",
     "text": [
      "C:\\Users\\vedan\\anaconda3\\lib\\site-packages\\sklearn\\utils\\validation.py:760: DataConversionWarning: A column-vector y was passed when a 1d array was expected. Please change the shape of y to (n_samples, ), for example using ravel().\n",
      "  y = column_or_1d(y, warn=True)\n"
     ]
    },
    {
     "name": "stdout",
     "output_type": "stream",
     "text": [
      "0.7642238858646553\n",
      "R squared: 76.96\n",
      "Mean Absolute Error: 1.6517947504966333\n",
      "Mean Square Error: 8.032595145625086\n",
      "Root Mean Square Error: 2.834183329572222\n",
      "Adjusted R squared: 0.7693912646846559 \n",
      "\n",
      "Original Data\n",
      "RandomForestRegressor\n"
     ]
    },
    {
     "name": "stderr",
     "output_type": "stream",
     "text": [
      "C:\\Users\\vedan\\anaconda3\\lib\\site-packages\\ipykernel_launcher.py:43: DataConversionWarning: A column-vector y was passed when a 1d array was expected. Please change the shape of y to (n_samples,), for example using ravel().\n"
     ]
    },
    {
     "name": "stdout",
     "output_type": "stream",
     "text": [
      "0.8484156779392582\n",
      "R squared: 94.71\n",
      "Mean Absolute Error: 1.526210955710956\n",
      "Mean Square Error: 5.164286865967368\n",
      "Root Mean Square Error: 2.2725067361764557\n",
      "Adjusted R squared: 0.947090821090202 \n",
      "\n",
      "Original Data\n",
      "LinearRegression\n",
      "0.5863268352054052\n",
      "R squared: 57.08\n",
      "Mean Absolute Error: 1.8208057379030456\n",
      "Mean Square Error: 6.619518364203591\n",
      "Root Mean Square Error: 2.572842467817179\n",
      "Adjusted R squared: 0.5704466290540391 \n",
      "\n",
      "Original Data\n",
      "KNeighborsRegressor\n",
      "0.7542790413325393\n",
      "R squared: 82.10\n",
      "Mean Absolute Error: 1.289090909090909\n",
      "Mean Square Error: 3.931979487179488\n",
      "Root Mean Square Error: 1.982921956905891\n",
      "Adjusted R squared: 0.8208741882640331 \n",
      "\n",
      "Original Data\n",
      "SVR\n"
     ]
    },
    {
     "name": "stderr",
     "output_type": "stream",
     "text": [
      "C:\\Users\\vedan\\anaconda3\\lib\\site-packages\\sklearn\\utils\\validation.py:760: DataConversionWarning: A column-vector y was passed when a 1d array was expected. Please change the shape of y to (n_samples, ), for example using ravel().\n",
      "  y = column_or_1d(y, warn=True)\n"
     ]
    },
    {
     "name": "stdout",
     "output_type": "stream",
     "text": [
      "0.7497918783218347\n",
      "R squared: 73.51\n",
      "Mean Absolute Error: 1.176921743548667\n",
      "Mean Square Error: 4.003782206041573\n",
      "Root Mean Square Error: 2.0009453280990894\n",
      "Adjusted R squared: 0.7348363539371408 \n",
      "\n",
      "Original Data\n",
      "RandomForestRegressor\n"
     ]
    },
    {
     "name": "stderr",
     "output_type": "stream",
     "text": [
      "C:\\Users\\vedan\\anaconda3\\lib\\site-packages\\ipykernel_launcher.py:43: DataConversionWarning: A column-vector y was passed when a 1d array was expected. Please change the shape of y to (n_samples,), for example using ravel().\n"
     ]
    },
    {
     "name": "stdout",
     "output_type": "stream",
     "text": [
      "0.8258974134009059\n",
      "R squared: 94.55\n",
      "Mean Absolute Error: 1.0870885780885782\n",
      "Mean Square Error: 2.7859560815850815\n",
      "Root Mean Square Error: 1.6691183545767752\n",
      "Adjusted R squared: 0.9454725269621399 \n",
      "\n"
     ]
    },
    {
     "data": {
      "image/png": "[encoded data removed]",
      "text/plain": [
       "<Figure size 864x576 with 1 Axes>"
      ]
     },
     "metadata": {
      "needs_background": "light"
     },
     "output_type": "display_data"
    }
   ],
   "source": [
    "# NO2 accuracy for year 2020\n",
    "\n",
    "# set width of bar\n",
    "barWidth = 0.25\n",
    "fig = plt.subplots(figsize =(12, 8))\n",
    "\n",
    "# set height of bar\n",
    "Rathmines = [Linear_regression(rathmines_2020,\"\",\"LinearRegression\")*100,\n",
    "    Linear_regression(rathmines_2020,\"\",\"KNeighborsRegressor\")*100,\n",
    "    Linear_regression(rathmines_2020,\"\",\"SVR\")*100,\n",
    "    Linear_regression(rathmines_2020,\"\",\"RandomForestRegressor\")*100]\n",
    "Limerick = [Linear_regression(Limerick_Peoples_Park_2020,\"\",\"LinearRegression\")*100,\n",
    "    Linear_regression(Limerick_Peoples_Park_2020,\"\",\"KNeighborsRegressor\")*100,\n",
    "    Linear_regression(Limerick_Peoples_Park_2020,\"\",\"SVR\")*100,\n",
    "    Linear_regression(Limerick_Peoples_Park_2020,\"\",\"RandomForestRegressor\")*100]\n",
    "Waterford = [Linear_regression(Waterford_2020,\"\",\"LinearRegression\")*100,\n",
    "    Linear_regression(Waterford_2020,\"\",\"KNeighborsRegressor\")*100,\n",
    "    Linear_regression(Waterford_2020,\"\",\"SVR\")*100,\n",
    "    Linear_regression(Waterford_2020,\"\",\"RandomForestRegressor\")*100]\n",
    "\n",
    "# Set position of bar on X axis\n",
    "br1 = np.arange(len(Rathmines))\n",
    "br2 = [x + barWidth for x in br1]\n",
    "br3 = [x + barWidth for x in br2]\n",
    "\n",
    "# Make the plot\n",
    "plt.bar(br1, Rathmines, width = barWidth,\n",
    "\t\tedgecolor ='grey', label ='Rathmines') # , color ='r'\n",
    "plt.bar(br2, Limerick, width = barWidth,\n",
    "\t\tedgecolor ='grey', label ='Limerick Peoples Park') # , color ='g'\n",
    "plt.bar(br3, Waterford, width = barWidth,\n",
    "\t\tedgecolor ='grey', label ='Waterford') # , color ='b'\n",
    "\n",
    "# Adding Xticks\n",
    "plt.xlabel('Models', fontweight ='bold', fontsize = 15)\n",
    "plt.ylabel('NO2 accuracy', fontweight ='bold', fontsize = 15)\n",
    "plt.xticks([r + barWidth for r in range(len(Rathmines))],\n",
    "\t\t['Linear Regression','Random Forest','KNN','SVM'])\n",
    "plt.ylim(0,100)\n",
    "plt.title(\"NO2 accuracy for year 2020\")\n",
    "\n",
    "plt.legend()\n",
    "plt.show()\n"
   ]
  },
  {
   "cell_type": "code",
   "execution_count": 19,
   "metadata": {},
   "outputs": [
    {
     "name": "stdout",
     "output_type": "stream",
     "text": [
      "Original Data\n",
      "LinearRegression\n",
      "0.6595941687898673\n",
      "R squared: 63.83\n",
      "Mean Absolute Error: 3.744366787612108\n",
      "Mean Square Error: 27.07212726204301\n",
      "Root Mean Square Error: 5.203088242769193\n",
      "Adjusted R squared: 0.6382274041858398 \n",
      "\n",
      "Original Data\n",
      "KNeighborsRegressor\n",
      "0.7609149922518703\n",
      "R squared: 82.24\n",
      "Mean Absolute Error: 2.872681992337165\n",
      "Mean Square Error: 19.014185900383143\n",
      "Root Mean Square Error: 4.360525874293506\n",
      "Adjusted R squared: 0.8223690976808635 \n",
      "\n",
      "Original Data\n",
      "SVR\n"
     ]
    },
    {
     "name": "stderr",
     "output_type": "stream",
     "text": [
      "C:\\Users\\vedan\\anaconda3\\lib\\site-packages\\sklearn\\utils\\validation.py:760: DataConversionWarning: A column-vector y was passed when a 1d array was expected. Please change the shape of y to (n_samples, ), for example using ravel().\n",
      "  y = column_or_1d(y, warn=True)\n"
     ]
    },
    {
     "name": "stdout",
     "output_type": "stream",
     "text": [
      "0.7373257868774361\n",
      "R squared: 74.93\n",
      "Mean Absolute Error: 2.961958099916938\n",
      "Mean Square Error: 20.89021125411141\n",
      "Root Mean Square Error: 4.570581063071894\n",
      "Adjusted R squared: 0.7492301818644118 \n",
      "\n",
      "Original Data\n",
      "RandomForestRegressor\n"
     ]
    },
    {
     "name": "stderr",
     "output_type": "stream",
     "text": [
      "C:\\Users\\vedan\\anaconda3\\lib\\site-packages\\ipykernel_launcher.py:43: DataConversionWarning: A column-vector y was passed when a 1d array was expected. Please change the shape of y to (n_samples,), for example using ravel().\n"
     ]
    },
    {
     "name": "stdout",
     "output_type": "stream",
     "text": [
      "0.7783673556277085\n",
      "R squared: 92.65\n",
      "Mean Absolute Error: 2.7588834482758617\n",
      "Mean Square Error: 17.626217308145804\n",
      "Root Mean Square Error: 4.198358882723796\n",
      "Adjusted R squared: 0.9264952753175745 \n",
      "\n",
      "Original Data\n",
      "LinearRegression\n",
      "0.6258439838908993\n",
      "R squared: 64.91\n",
      "Mean Absolute Error: 1.6519103648918994\n",
      "Mean Square Error: 7.256106394604109\n",
      "Root Mean Square Error: 2.693716093912666\n",
      "Adjusted R squared: 0.649022960902771 \n",
      "\n",
      "Original Data\n",
      "KNeighborsRegressor\n",
      "0.7879162175432226\n",
      "R squared: 86.09\n",
      "Mean Absolute Error: 1.0533333333333332\n",
      "Mean Square Error: 4.112996781609196\n",
      "Root Mean Square Error: 2.028052460270492\n",
      "Adjusted R squared: 0.860883568492751 \n",
      "\n",
      "Original Data\n",
      "SVR\n"
     ]
    },
    {
     "name": "stderr",
     "output_type": "stream",
     "text": [
      "C:\\Users\\vedan\\anaconda3\\lib\\site-packages\\sklearn\\utils\\validation.py:760: DataConversionWarning: A column-vector y was passed when a 1d array was expected. Please change the shape of y to (n_samples, ), for example using ravel().\n",
      "  y = column_or_1d(y, warn=True)\n"
     ]
    },
    {
     "name": "stdout",
     "output_type": "stream",
     "text": [
      "0.798910300735617\n",
      "R squared: 80.76\n",
      "Mean Absolute Error: 1.0380410371165731\n",
      "Mean Square Error: 3.899785623908928\n",
      "Root Mean Square Error: 1.9747874882905574\n",
      "Adjusted R squared: 0.8075640123980281 \n",
      "\n",
      "Original Data\n",
      "RandomForestRegressor\n"
     ]
    },
    {
     "name": "stderr",
     "output_type": "stream",
     "text": [
      "C:\\Users\\vedan\\anaconda3\\lib\\site-packages\\ipykernel_launcher.py:43: DataConversionWarning: A column-vector y was passed when a 1d array was expected. Please change the shape of y to (n_samples,), for example using ravel().\n"
     ]
    },
    {
     "name": "stdout",
     "output_type": "stream",
     "text": [
      "0.8107193858306346\n",
      "R squared: 94.81\n",
      "Mean Absolute Error: 0.969957471264404\n",
      "Mean Square Error: 3.670768919157087\n",
      "Root Mean Square Error: 1.9159250818226392\n",
      "Adjusted R squared: 0.9481093464281338 \n",
      "\n",
      "Original Data\n",
      "LinearRegression\n",
      "0.47834574314480105\n",
      "R squared: 51.35\n",
      "Mean Absolute Error: 1.9284660360452346\n",
      "Mean Square Error: 7.995867308465933\n",
      "Root Mean Square Error: 2.8276964668199334\n",
      "Adjusted R squared: 0.5133925509827234 \n",
      "\n",
      "Original Data\n",
      "KNeighborsRegressor\n",
      "0.7036366755844212\n",
      "R squared: 79.03\n",
      "Mean Absolute Error: 1.3800229885057471\n",
      "Mean Square Error: 4.542629118773946\n",
      "Root Mean Square Error: 2.1313444392622105\n",
      "Adjusted R squared: 0.790255923744899 \n",
      "\n",
      "Original Data\n",
      "SVR\n"
     ]
    },
    {
     "name": "stderr",
     "output_type": "stream",
     "text": [
      "C:\\Users\\vedan\\anaconda3\\lib\\site-packages\\sklearn\\utils\\validation.py:760: DataConversionWarning: A column-vector y was passed when a 1d array was expected. Please change the shape of y to (n_samples, ), for example using ravel().\n",
      "  y = column_or_1d(y, warn=True)\n"
     ]
    },
    {
     "name": "stdout",
     "output_type": "stream",
     "text": [
      "0.6585177460424078\n",
      "R squared: 68.46\n",
      "Mean Absolute Error: 1.4055008973788015\n",
      "Mean Square Error: 5.2342078205233395\n",
      "Root Mean Square Error: 2.2878391159614653\n",
      "Adjusted R squared: 0.684493013010143 \n",
      "\n",
      "Original Data\n",
      "RandomForestRegressor\n"
     ]
    },
    {
     "name": "stderr",
     "output_type": "stream",
     "text": [
      "C:\\Users\\vedan\\anaconda3\\lib\\site-packages\\ipykernel_launcher.py:43: DataConversionWarning: A column-vector y was passed when a 1d array was expected. Please change the shape of y to (n_samples,), for example using ravel().\n"
     ]
    },
    {
     "name": "stdout",
     "output_type": "stream",
     "text": [
      "0.7758024305432509\n",
      "R squared: 93.12\n",
      "Mean Absolute Error: 1.1734801724137935\n",
      "Mean Square Error: 3.436479224886965\n",
      "Root Mean Square Error: 1.8537743187580749\n",
      "Adjusted R squared: 0.9311761295858889 \n",
      "\n"
     ]
    },
    {
     "data": {
      "image/png": "[encoded data removed]",
      "text/plain": [
       "<Figure size 864x576 with 1 Axes>"
      ]
     },
     "metadata": {
      "needs_background": "light"
     },
     "output_type": "display_data"
    }
   ],
   "source": [
    "# NO2 accuracy for year 2019 & 2020(combined data)\n",
    "\n",
    "# set width of bar\n",
    "barWidth = 0.25\n",
    "fig = plt.subplots(figsize =(12, 8))\n",
    "\n",
    "# set height of bar\n",
    "Rathmines = [Linear_regression(df_Rathmines_locf,\"\",\"LinearRegression\")*100,\n",
    "    Linear_regression(df_Rathmines_locf,\"\",\"KNeighborsRegressor\")*100,\n",
    "    Linear_regression(df_Rathmines_locf,\"\",\"SVR\")*100,\n",
    "    Linear_regression(df_Rathmines_locf,\"\",\"RandomForestRegressor\")*100]\n",
    "Limerick = [Linear_regression(df_Limerick_Peoples_Park_locf,\"\",\"LinearRegression\")*100,\n",
    "    Linear_regression(df_Limerick_Peoples_Park_locf,\"\",\"KNeighborsRegressor\")*100,\n",
    "    Linear_regression(df_Limerick_Peoples_Park_locf,\"\",\"SVR\")*100,\n",
    "    Linear_regression(df_Limerick_Peoples_Park_locf,\"\",\"RandomForestRegressor\")*100]\n",
    "Waterford = [Linear_regression(df_Waterford_locf,\"\",\"LinearRegression\")*100,\n",
    "    Linear_regression(df_Waterford_locf,\"\",\"KNeighborsRegressor\")*100,\n",
    "    Linear_regression(df_Waterford_locf,\"\",\"SVR\")*100,\n",
    "    Linear_regression(df_Waterford_locf,\"\",\"RandomForestRegressor\")*100]\n",
    "\n",
    "# Set position of bar on X axis\n",
    "br1 = np.arange(len(Rathmines))\n",
    "br2 = [x + barWidth for x in br1]\n",
    "br3 = [x + barWidth for x in br2]\n",
    "\n",
    "# Make the plot\n",
    "plt.bar(br1, Rathmines, width = barWidth,\n",
    "\t\tedgecolor ='grey', label ='Rathmines') # , color ='r'\n",
    "plt.bar(br2, Limerick, width = barWidth,\n",
    "\t\tedgecolor ='grey', label ='Limerick Peoples Park') # , color ='g'\n",
    "plt.bar(br3, Waterford, width = barWidth,\n",
    "\t\tedgecolor ='grey', label ='Waterford') # , color ='b'\n",
    "\n",
    "# Adding Xticks\n",
    "plt.xlabel('Models', fontweight ='bold', fontsize = 15)\n",
    "plt.ylabel('NO2 accuracy', fontweight ='bold', fontsize = 15)\n",
    "plt.xticks([r + barWidth for r in range(len(Rathmines))],\n",
    "\t\t['Linear Regression','Random Forest','KNN','SVM'])\n",
    "plt.ylim(0,100)\n",
    "plt.title(\"NO2 accuracy for year 2019 & 2020(combined data)\")\n",
    "\n",
    "plt.legend()\n",
    "plt.show()\n"
   ]
  },
  {
   "cell_type": "markdown",
   "metadata": {},
   "source": [
    "# Plots after standard scaler"
   ]
  },
  {
   "cell_type": "code",
   "execution_count": 130,
   "metadata": {},
   "outputs": [
    {
     "name": "stdout",
     "output_type": "stream",
     "text": [
      "Standard Scaling\n",
      "0.5839161686659481\n",
      "R squared: -10191.29\n",
      "Mean Absolute Error: 4.197483129298953\n",
      "Mean Square Error: 33.422038897151204\n",
      "Root Mean Square Error: 5.781179715002052\n",
      "Adjusted R squared: -101.95988669398558 \n",
      "\n",
      "Standard Scaling\n",
      "0.7329073743723159\n",
      "R squared: -145.38\n",
      "Mean Absolute Error: 3.230296803652968\n",
      "Mean Square Error: 21.454282648401826\n",
      "Root Mean Square Error: 4.631876795468747\n",
      "Adjusted R squared: -1.454912739178703 \n",
      "\n",
      "Standard Scaling\n"
     ]
    },
    {
     "name": "stderr",
     "output_type": "stream",
     "text": [
      "C:\\Users\\vedan\\anaconda3\\lib\\site-packages\\sklearn\\utils\\validation.py:760: DataConversionWarning: A column-vector y was passed when a 1d array was expected. Please change the shape of y to (n_samples, ), for example using ravel().\n",
      "  y = column_or_1d(y, warn=True)\n"
     ]
    },
    {
     "name": "stdout",
     "output_type": "stream",
     "text": [
      "0.7085254990527239\n",
      "R squared: -202.43\n",
      "Mean Absolute Error: 3.3147381450233184\n",
      "Mean Square Error: 23.41276294479831\n",
      "Root Mean Square Error: 4.838673676204907\n",
      "Adjusted R squared: -2.025719208763055 \n",
      "\n",
      "Standard Scaling\n"
     ]
    },
    {
     "name": "stderr",
     "output_type": "stream",
     "text": [
      "C:\\Users\\vedan\\anaconda3\\lib\\site-packages\\ipykernel_launcher.py:28: DataConversionWarning: A column-vector y was passed when a 1d array was expected. Please change the shape of y to (n_samples,), for example using ravel().\n"
     ]
    },
    {
     "name": "stdout",
     "output_type": "stream",
     "text": [
      "0.7487435096743469\n",
      "R squared: -903.35\n",
      "Mean Absolute Error: 3.075435083713851\n",
      "Mean Square Error: 20.182241078442097\n",
      "Root Mean Square Error: 4.492464922338526\n",
      "Adjusted R squared: -9.038088170632323 \n",
      "\n",
      "Standard Scaling\n",
      "0.6735058491496628\n",
      "R squared: -8511.79\n",
      "Mean Absolute Error: 1.2450434053861674\n",
      "Mean Square Error: 6.191501042941035\n",
      "Root Mean Square Error: 2.488272702687757\n",
      "Adjusted R squared: -85.15727676556197 \n",
      "\n",
      "Standard Scaling\n",
      "0.8228184501767141\n",
      "R squared: -97.30\n",
      "Mean Absolute Error: 0.7776027397260274\n",
      "Mean Square Error: 3.3599981735159816\n",
      "Root Mean Square Error: 1.833029779767907\n",
      "Adjusted R squared: -0.9739044283383884 \n",
      "\n",
      "Standard Scaling\n"
     ]
    },
    {
     "name": "stderr",
     "output_type": "stream",
     "text": [
      "C:\\Users\\vedan\\anaconda3\\lib\\site-packages\\sklearn\\utils\\validation.py:760: DataConversionWarning: A column-vector y was passed when a 1d array was expected. Please change the shape of y to (n_samples, ), for example using ravel().\n",
      "  y = column_or_1d(y, warn=True)\n"
     ]
    },
    {
     "name": "stdout",
     "output_type": "stream",
     "text": [
      "0.8063787704024176\n",
      "R squared: -797.26\n",
      "Mean Absolute Error: 0.8140437061707277\n",
      "Mean Square Error: 3.6717535118676063\n",
      "Root Mean Square Error: 1.916182014284553\n",
      "Adjusted R squared: -7.976685844782377 \n",
      "\n",
      "Standard Scaling\n"
     ]
    },
    {
     "name": "stderr",
     "output_type": "stream",
     "text": [
      "C:\\Users\\vedan\\anaconda3\\lib\\site-packages\\ipykernel_launcher.py:28: DataConversionWarning: A column-vector y was passed when a 1d array was expected. Please change the shape of y to (n_samples,), for example using ravel().\n"
     ]
    },
    {
     "name": "stdout",
     "output_type": "stream",
     "text": [
      "0.8441887233741472\n",
      "R squared: -1977.07\n",
      "Mean Absolute Error: 0.7020707762557619\n",
      "Mean Square Error: 2.9547410856164382\n",
      "Root Mean Square Error: 1.7189360330205536\n",
      "Adjusted R squared: -19.78017256398723 \n",
      "\n",
      "Standard Scaling\n",
      "0.5506326050460646\n",
      "R squared: -8903.68\n",
      "Mean Absolute Error: 1.7814445076893004\n",
      "Mean Square Error: 7.601287491213606\n",
      "Root Mean Square Error: 2.7570432516037187\n",
      "Adjusted R squared: -89.07792785039807 \n",
      "\n",
      "Standard Scaling\n",
      "0.7179573167525051\n",
      "R squared: -48.65\n",
      "Mean Absolute Error: 1.328904109589041\n",
      "Mean Square Error: 4.770901369863014\n",
      "Root Mean Square Error: 2.184239311491077\n",
      "Adjusted R squared: -0.48721343790238847 \n",
      "\n",
      "Standard Scaling\n"
     ]
    },
    {
     "name": "stderr",
     "output_type": "stream",
     "text": [
      "C:\\Users\\vedan\\anaconda3\\lib\\site-packages\\sklearn\\utils\\validation.py:760: DataConversionWarning: A column-vector y was passed when a 1d array was expected. Please change the shape of y to (n_samples, ), for example using ravel().\n",
      "  y = column_or_1d(y, warn=True)\n"
     ]
    },
    {
     "name": "stdout",
     "output_type": "stream",
     "text": [
      "0.5770590483432588\n",
      "R squared: -393.29\n",
      "Mean Absolute Error: 1.450426081699892\n",
      "Mean Square Error: 7.154270206186018\n",
      "Root Mean Square Error: 2.6747467555239726\n",
      "Adjusted R squared: -3.935160558088934 \n",
      "\n",
      "Standard Scaling\n"
     ]
    },
    {
     "name": "stderr",
     "output_type": "stream",
     "text": [
      "C:\\Users\\vedan\\anaconda3\\lib\\site-packages\\ipykernel_launcher.py:28: DataConversionWarning: A column-vector y was passed when a 1d array was expected. Please change the shape of y to (n_samples,), for example using ravel().\n"
     ]
    },
    {
     "name": "stdout",
     "output_type": "stream",
     "text": [
      "0.790337093377588\n",
      "R squared: -2103.29\n",
      "Mean Absolute Error: 1.140693652152643\n",
      "Mean Square Error: 3.546559112602724\n",
      "Root Mean Square Error: 1.883231030065808\n",
      "Adjusted R squared: -21.042968298279558 \n",
      "\n"
     ]
    },
    {
     "data": {
      "image/png": "[encoded data removed]",
      "text/plain": [
       "<Figure size 864x576 with 1 Axes>"
      ]
     },
     "metadata": {
      "needs_background": "light"
     },
     "output_type": "display_data"
    }
   ],
   "source": [
    "# NO2 accuracy for year 2019 after Standard Scalar\n",
    "\n",
    "# set width of bar\n",
    "barWidth = 0.25\n",
    "fig = plt.subplots(figsize =(12, 8))\n",
    "\n",
    "# set height of bar\n",
    "Rathmines = [Linear_regression(rathmines_2019,\"Standard Scaling\",\"LinearRegression\")*100,\n",
    "    Linear_regression(rathmines_2019,\"Standard Scaling\",\"KNeighborsRegressor\")*100,\n",
    "    Linear_regression(rathmines_2019,\"Standard Scaling\",\"SVR\")*100,\n",
    "    Linear_regression(rathmines_2019,\"Standard Scaling\",\"RandomForestRegressor\")*100]\n",
    "Limerick = [Linear_regression(Limerick_Peoples_Park_2019,\"Standard Scaling\",\"LinearRegression\")*100,\n",
    "    Linear_regression(Limerick_Peoples_Park_2019,\"Standard Scaling\",\"KNeighborsRegressor\")*100,\n",
    "    Linear_regression(Limerick_Peoples_Park_2019,\"Standard Scaling\",\"SVR\")*100,\n",
    "    Linear_regression(Limerick_Peoples_Park_2019,\"Standard Scaling\",\"RandomForestRegressor\")*100]\n",
    "Waterford = [Linear_regression(Waterford_2019,\"Standard Scaling\",\"LinearRegression\")*100,\n",
    "    Linear_regression(Waterford_2019,\"Standard Scaling\",\"KNeighborsRegressor\")*100,\n",
    "    Linear_regression(Waterford_2019,\"Standard Scaling\",\"SVR\")*100,\n",
    "    Linear_regression(Waterford_2019,\"Standard Scaling\",\"RandomForestRegressor\")*100]\n",
    "\n",
    "# Set position of bar on X axis\n",
    "br1 = np.arange(len(Rathmines))\n",
    "br2 = [x + barWidth for x in br1]\n",
    "br3 = [x + barWidth for x in br2]\n",
    "\n",
    "# Make the plot\n",
    "plt.bar(br1, Rathmines, width = barWidth,\n",
    "\t\tedgecolor ='grey', label ='Rathmines') # , color ='r'\n",
    "plt.bar(br2, Limerick, width = barWidth,\n",
    "\t\tedgecolor ='grey', label ='Limerick Peoples Park') # , color ='g'\n",
    "plt.bar(br3, Waterford, width = barWidth,\n",
    "\t\tedgecolor ='grey', label ='Waterford') # , color ='b'\n",
    "\n",
    "# Adding Xticks\n",
    "plt.xlabel('Models', fontweight ='bold', fontsize = 15)\n",
    "plt.ylabel('NO2 accuracy', fontweight ='bold', fontsize = 15)\n",
    "plt.xticks([r + barWidth for r in range(len(Rathmines))],\n",
    "\t\t['Linear Regression','Random Forest','KNN','SVM'])\n",
    "plt.ylim(0,100)\n",
    "plt.title(\"NO2 accuracy for year 2019 after Standard Scalar\")\n",
    "\n",
    "plt.legend()\n",
    "plt.show()\n"
   ]
  },
  {
   "cell_type": "code",
   "execution_count": 131,
   "metadata": {},
   "outputs": [
    {
     "name": "stdout",
     "output_type": "stream",
     "text": [
      "Standard Scaling\n",
      "0.7440490159820176\n",
      "R squared: -10296.23\n",
      "Mean Absolute Error: 2.6984768656298277\n",
      "Mean Square Error: 13.440058575564203\n",
      "Root Mean Square Error: 3.666068544853492\n",
      "Adjusted R squared: -103.05934914310772 \n",
      "\n",
      "Standard Scaling\n",
      "0.767674115777714\n",
      "R squared: -39.96\n",
      "Mean Absolute Error: 2.271445221445221\n",
      "Mean Square Error: 12.1994979020979\n",
      "Root Mean Square Error: 3.4927779634694645\n",
      "Adjusted R squared: -0.4008755297546336 \n",
      "\n",
      "Standard Scaling\n"
     ]
    },
    {
     "name": "stderr",
     "output_type": "stream",
     "text": [
      "C:\\Users\\vedan\\anaconda3\\lib\\site-packages\\sklearn\\utils\\validation.py:760: DataConversionWarning: A column-vector y was passed when a 1d array was expected. Please change the shape of y to (n_samples, ), for example using ravel().\n",
      "  y = column_or_1d(y, warn=True)\n"
     ]
    },
    {
     "name": "stdout",
     "output_type": "stream",
     "text": [
      "0.73513003151082\n",
      "R squared: -266.87\n",
      "Mean Absolute Error: 2.2864767417577703\n",
      "Mean Square Error: 13.908396973196698\n",
      "Root Mean Square Error: 3.729396328254306\n",
      "Adjusted R squared: -2.6721572987565585 \n",
      "\n",
      "Standard Scaling\n"
     ]
    },
    {
     "name": "stderr",
     "output_type": "stream",
     "text": [
      "C:\\Users\\vedan\\anaconda3\\lib\\site-packages\\ipykernel_launcher.py:28: DataConversionWarning: A column-vector y was passed when a 1d array was expected. Please change the shape of y to (n_samples,), for example using ravel().\n"
     ]
    },
    {
     "name": "stdout",
     "output_type": "stream",
     "text": [
      "0.8054607456035624\n",
      "R squared: -722.33\n",
      "Mean Absolute Error: 2.0684411421911424\n",
      "Mean Square Error: 10.21531128065916\n",
      "Root Mean Square Error: 3.1961400596124006\n",
      "Adjusted R squared: -7.230962193183284 \n",
      "\n",
      "Standard Scaling\n",
      "0.6760656796661101\n",
      "R squared: -9559.68\n",
      "Mean Absolute Error: 2.2261764483951367\n",
      "Mean Square Error: 11.036034157055012\n",
      "Root Mean Square Error: 3.322052702329542\n",
      "Adjusted R squared: -95.68699741381506 \n",
      "\n",
      "Standard Scaling\n",
      "0.821479944117594\n",
      "R squared: -510.48\n",
      "Mean Absolute Error: 1.5823776223776225\n",
      "Mean Square Error: 6.081953379953381\n",
      "Root Mean Square Error: 2.4661616694680384\n",
      "Adjusted R squared: -5.110522268079603 \n",
      "\n",
      "Standard Scaling\n"
     ]
    },
    {
     "name": "stderr",
     "output_type": "stream",
     "text": [
      "C:\\Users\\vedan\\anaconda3\\lib\\site-packages\\sklearn\\utils\\validation.py:760: DataConversionWarning: A column-vector y was passed when a 1d array was expected. Please change the shape of y to (n_samples, ), for example using ravel().\n",
      "  y = column_or_1d(y, warn=True)\n"
     ]
    },
    {
     "name": "stdout",
     "output_type": "stream",
     "text": [
      "0.7532152168094312\n",
      "R squared: -371.95\n",
      "Mean Absolute Error: 1.665244447573518\n",
      "Mean Square Error: 8.40764663011102\n",
      "Root Mean Square Error: 2.8995942181814027\n",
      "Adjusted R squared: -3.723930327903008 \n",
      "\n",
      "Standard Scaling\n"
     ]
    },
    {
     "name": "stderr",
     "output_type": "stream",
     "text": [
      "C:\\Users\\vedan\\anaconda3\\lib\\site-packages\\ipykernel_launcher.py:28: DataConversionWarning: A column-vector y was passed when a 1d array was expected. Please change the shape of y to (n_samples,), for example using ravel().\n"
     ]
    },
    {
     "name": "stdout",
     "output_type": "stream",
     "text": [
      "0.8500747459452439\n",
      "R squared: -1486.85\n",
      "Mean Absolute Error: 1.5152692307692315\n",
      "Mean Square Error: 5.107764509324012\n",
      "Root Mean Square Error: 2.260036395575083\n",
      "Adjusted R squared: -14.88330562940195 \n",
      "\n",
      "Standard Scaling\n",
      "0.5863268352054051\n",
      "R squared: -10770.34\n",
      "Mean Absolute Error: 1.8208057379030456\n",
      "Mean Square Error: 6.619518364203592\n",
      "Root Mean Square Error: 2.572842467817179\n",
      "Adjusted R squared: -107.80491331502856 \n",
      "\n",
      "Standard Scaling\n",
      "0.7755205227853068\n",
      "R squared: -156.11\n",
      "Mean Absolute Error: 1.2126340326340328\n",
      "Mean Square Error: 3.5920773892773887\n",
      "Root Mean Square Error: 1.8952776549301131\n",
      "Adjusted R squared: -1.5634512382653303 \n",
      "\n",
      "Standard Scaling\n"
     ]
    },
    {
     "name": "stderr",
     "output_type": "stream",
     "text": [
      "C:\\Users\\vedan\\anaconda3\\lib\\site-packages\\sklearn\\utils\\validation.py:760: DataConversionWarning: A column-vector y was passed when a 1d array was expected. Please change the shape of y to (n_samples, ), for example using ravel().\n",
      "  y = column_or_1d(y, warn=True)\n"
     ]
    },
    {
     "name": "stdout",
     "output_type": "stream",
     "text": [
      "0.7600971742728866\n",
      "R squared: -307.42\n",
      "Mean Absolute Error: 1.128727834054173\n",
      "Mean Square Error: 3.8388788436723624\n",
      "Root Mean Square Error: 1.9593057044964581\n",
      "Adjusted R squared: -3.078023995290433 \n",
      "\n",
      "Standard Scaling\n"
     ]
    },
    {
     "name": "stderr",
     "output_type": "stream",
     "text": [
      "C:\\Users\\vedan\\anaconda3\\lib\\site-packages\\ipykernel_launcher.py:28: DataConversionWarning: A column-vector y was passed when a 1d array was expected. Please change the shape of y to (n_samples,), for example using ravel().\n"
     ]
    },
    {
     "name": "stdout",
     "output_type": "stream",
     "text": [
      "0.8264612586481064\n",
      "R squared: -714.39\n",
      "Mean Absolute Error: 1.0845384615384617\n",
      "Mean Square Error: 2.7769335384615386\n",
      "Root Mean Square Error: 1.6664133756248893\n",
      "Adjusted R squared: -7.15154051344156 \n",
      "\n"
     ]
    },
    {
     "data": {
      "image/png": "[encoded data removed]",
      "text/plain": [
       "<Figure size 864x576 with 1 Axes>"
      ]
     },
     "metadata": {
      "needs_background": "light"
     },
     "output_type": "display_data"
    }
   ],
   "source": [
    "# NO2 accuracy for year 2020 after Standard Scalar\n",
    "\n",
    "# set width of bar\n",
    "barWidth = 0.25\n",
    "fig = plt.subplots(figsize =(12, 8))\n",
    "\n",
    "# set height of bar\n",
    "Rathmines = [Linear_regression(rathmines_2020,\"Standard Scaling\",\"LinearRegression\")*100,\n",
    "    Linear_regression(rathmines_2020,\"Standard Scaling\",\"KNeighborsRegressor\")*100,\n",
    "    Linear_regression(rathmines_2020,\"Standard Scaling\",\"SVR\")*100,\n",
    "    Linear_regression(rathmines_2020,\"Standard Scaling\",\"RandomForestRegressor\")*100]\n",
    "Limerick = [Linear_regression(Limerick_Peoples_Park_2020,\"Standard Scaling\",\"LinearRegression\")*100,\n",
    "    Linear_regression(Limerick_Peoples_Park_2020,\"Standard Scaling\",\"KNeighborsRegressor\")*100,\n",
    "    Linear_regression(Limerick_Peoples_Park_2020,\"Standard Scaling\",\"SVR\")*100,\n",
    "    Linear_regression(Limerick_Peoples_Park_2020,\"Standard Scaling\",\"RandomForestRegressor\")*100]\n",
    "Waterford = [Linear_regression(Waterford_2020,\"Standard Scaling\",\"LinearRegression\")*100,\n",
    "    Linear_regression(Waterford_2020,\"Standard Scaling\",\"KNeighborsRegressor\")*100,\n",
    "    Linear_regression(Waterford_2020,\"Standard Scaling\",\"SVR\")*100,\n",
    "    Linear_regression(Waterford_2020,\"Standard Scaling\",\"RandomForestRegressor\")*100]\n",
    "\n",
    "# Set position of bar on X axis\n",
    "br1 = np.arange(len(Rathmines))\n",
    "br2 = [x + barWidth for x in br1]\n",
    "br3 = [x + barWidth for x in br2]\n",
    "\n",
    "# Make the plot\n",
    "plt.bar(br1, Rathmines, width = barWidth,\n",
    "\t\tedgecolor ='grey', label ='Rathmines') # , color ='r'\n",
    "plt.bar(br2, Limerick, width = barWidth,\n",
    "\t\tedgecolor ='grey', label ='Limerick Peoples Park') # , color ='g'\n",
    "plt.bar(br3, Waterford, width = barWidth,\n",
    "\t\tedgecolor ='grey', label ='Waterford') # , color ='b'\n",
    "\n",
    "# Adding Xticks\n",
    "plt.xlabel('Models', fontweight ='bold', fontsize = 15)\n",
    "plt.ylabel('NO2 accuracy', fontweight ='bold', fontsize = 15)\n",
    "plt.xticks([r + barWidth for r in range(len(Rathmines))],\n",
    "\t\t['Linear Regression','Random Forest','KNN','SVM'])\n",
    "plt.ylim(0,100)\n",
    "plt.title(\"NO2 accuracy for year 2020 after Standard Scalar\")\n",
    "\n",
    "plt.legend()\n",
    "plt.show()\n"
   ]
  },
  {
   "cell_type": "code",
   "execution_count": 132,
   "metadata": {},
   "outputs": [
    {
     "name": "stdout",
     "output_type": "stream",
     "text": [
      "Standard Scaling\n",
      "0.6595941687898673\n",
      "R squared: -9852.54\n",
      "Mean Absolute Error: 3.744366787612108\n",
      "Mean Square Error: 27.07212726204301\n",
      "Root Mean Square Error: 5.203088242769193\n",
      "Adjusted R squared: -98.55588961501866 \n",
      "\n",
      "Standard Scaling\n",
      "0.7599137176398605\n",
      "R squared: -112.67\n",
      "Mean Absolute Error: 2.8778927203065137\n",
      "Mean Square Error: 19.09381624521073\n",
      "Root Mean Square Error: 4.369647153399314\n",
      "Adjusted R squared: -1.127399342858106 \n",
      "\n",
      "Standard Scaling\n"
     ]
    },
    {
     "name": "stderr",
     "output_type": "stream",
     "text": [
      "C:\\Users\\vedan\\anaconda3\\lib\\site-packages\\sklearn\\utils\\validation.py:760: DataConversionWarning: A column-vector y was passed when a 1d array was expected. Please change the shape of y to (n_samples, ), for example using ravel().\n",
      "  y = column_or_1d(y, warn=True)\n"
     ]
    },
    {
     "name": "stdout",
     "output_type": "stream",
     "text": [
      "0.7352610511331065\n",
      "R squared: -263.62\n",
      "Mean Absolute Error: 2.94827925888586\n",
      "Mean Square Error: 21.054417574062715\n",
      "Root Mean Square Error: 4.58850929758922\n",
      "Adjusted R squared: -2.6372688611844257 \n",
      "\n",
      "Standard Scaling\n"
     ]
    },
    {
     "name": "stderr",
     "output_type": "stream",
     "text": [
      "C:\\Users\\vedan\\anaconda3\\lib\\site-packages\\ipykernel_launcher.py:28: DataConversionWarning: A column-vector y was passed when a 1d array was expected. Please change the shape of y to (n_samples,), for example using ravel().\n"
     ]
    },
    {
     "name": "stdout",
     "output_type": "stream",
     "text": [
      "0.7777013800904811\n",
      "R squared: -695.81\n",
      "Mean Absolute Error: 2.7560264133673904\n",
      "Mean Square Error: 17.679181660821943\n",
      "Root Mean Square Error: 4.204661896136471\n",
      "Adjusted R squared: -6.960509436103335 \n",
      "\n",
      "Standard Scaling\n",
      "0.6258439838908997\n",
      "R squared: -7439.22\n",
      "Mean Absolute Error: 1.6519103648918996\n",
      "Mean Square Error: 7.256106394604104\n",
      "Root Mean Square Error: 2.6937160939126645\n",
      "Adjusted R squared: -74.41529275171787 \n",
      "\n",
      "Standard Scaling\n",
      "0.7917864952870088\n",
      "R squared: -244.33\n",
      "Mean Absolute Error: 1.0371570881226053\n",
      "Mean Square Error: 4.037939463601533\n",
      "Root Mean Square Error: 2.0094624812624726\n",
      "Adjusted R squared: -2.444326718675121 \n",
      "\n",
      "Standard Scaling\n"
     ]
    },
    {
     "name": "stderr",
     "output_type": "stream",
     "text": [
      "C:\\Users\\vedan\\anaconda3\\lib\\site-packages\\sklearn\\utils\\validation.py:760: DataConversionWarning: A column-vector y was passed when a 1d array was expected. Please change the shape of y to (n_samples, ), for example using ravel().\n",
      "  y = column_or_1d(y, warn=True)\n"
     ]
    },
    {
     "name": "stdout",
     "output_type": "stream",
     "text": [
      "0.7967682672997504\n",
      "R squared: -861.41\n",
      "Mean Absolute Error: 1.0347727112257235\n",
      "Mean Square Error: 3.9413266438104078\n",
      "Root Mean Square Error: 1.9852774727504485\n",
      "Adjusted R squared: -8.617073608182562 \n",
      "\n",
      "Standard Scaling\n"
     ]
    },
    {
     "name": "stderr",
     "output_type": "stream",
     "text": [
      "C:\\Users\\vedan\\anaconda3\\lib\\site-packages\\ipykernel_launcher.py:28: DataConversionWarning: A column-vector y was passed when a 1d array was expected. Please change the shape of y to (n_samples,), for example using ravel().\n"
     ]
    },
    {
     "name": "stdout",
     "output_type": "stream",
     "text": [
      "0.8105370372335025\n",
      "R squared: -2661.84\n",
      "Mean Absolute Error: 0.972783141762489\n",
      "Mean Square Error: 3.6743052536398464\n",
      "Root Mean Square Error: 1.9168477387731782\n",
      "Adjusted R squared: -26.626848321822926 \n",
      "\n",
      "Standard Scaling\n",
      "0.4783457431448011\n",
      "R squared: -8674.18\n",
      "Mean Absolute Error: 1.9284660360452346\n",
      "Mean Square Error: 7.9958673084659315\n",
      "Root Mean Square Error: 2.827696466819933\n",
      "Adjusted R squared: -86.76872398680088 \n",
      "\n",
      "Standard Scaling\n",
      "0.7186465663415338\n",
      "R squared: -111.08\n",
      "Mean Absolute Error: 1.3414482758620692\n",
      "Mean Square Error: 4.3125589272030656\n",
      "Root Mean Square Error: 2.0766701536842738\n",
      "Adjusted R squared: -1.1114709749268923 \n",
      "\n",
      "Standard Scaling\n"
     ]
    },
    {
     "name": "stderr",
     "output_type": "stream",
     "text": [
      "C:\\Users\\vedan\\anaconda3\\lib\\site-packages\\sklearn\\utils\\validation.py:760: DataConversionWarning: A column-vector y was passed when a 1d array was expected. Please change the shape of y to (n_samples, ), for example using ravel().\n",
      "  y = column_or_1d(y, warn=True)\n"
     ]
    },
    {
     "name": "stdout",
     "output_type": "stream",
     "text": [
      "0.6585188446231376\n",
      "R squared: -557.70\n",
      "Mean Absolute Error: 1.3686458959753858\n",
      "Mean Square Error: 5.2341909815814\n",
      "Root Mean Square Error: 2.2878354358610236\n",
      "Adjusted R squared: -5.578994381220364 \n",
      "\n",
      "Standard Scaling\n"
     ]
    },
    {
     "name": "stderr",
     "output_type": "stream",
     "text": [
      "C:\\Users\\vedan\\anaconda3\\lib\\site-packages\\ipykernel_launcher.py:28: DataConversionWarning: A column-vector y was passed when a 1d array was expected. Please change the shape of y to (n_samples,), for example using ravel().\n"
     ]
    },
    {
     "name": "stdout",
     "output_type": "stream",
     "text": [
      "0.7736426325183168\n",
      "R squared: -2082.80\n",
      "Mean Absolute Error: 1.1775556522532389\n",
      "Mean Square Error: 3.4695844055569545\n",
      "Root Mean Square Error: 1.8626820462862024\n",
      "Adjusted R squared: -20.834676109425214 \n",
      "\n"
     ]
    },
    {
     "data": {
      "image/png": "[encoded data removed]",
      "text/plain": [
       "<Figure size 864x576 with 1 Axes>"
      ]
     },
     "metadata": {
      "needs_background": "light"
     },
     "output_type": "display_data"
    }
   ],
   "source": [
    "# NO2 accuracy for year 2019 & 2020 after Standard Scalar\n",
    "\n",
    "# set width of bar\n",
    "barWidth = 0.25\n",
    "fig = plt.subplots(figsize =(12, 8))\n",
    "\n",
    "# set height of bar\n",
    "Rathmines = [Linear_regression(df_Rathmines_locf,\"Standard Scaling\",\"LinearRegression\")*100,\n",
    "    Linear_regression(df_Rathmines_locf,\"Standard Scaling\",\"KNeighborsRegressor\")*100,\n",
    "    Linear_regression(df_Rathmines_locf,\"Standard Scaling\",\"SVR\")*100,\n",
    "    Linear_regression(df_Rathmines_locf,\"Standard Scaling\",\"RandomForestRegressor\")*100]\n",
    "Limerick = [Linear_regression(df_Limerick_Peoples_Park_locf,\"Standard Scaling\",\"LinearRegression\")*100,\n",
    "    Linear_regression(df_Limerick_Peoples_Park_locf,\"Standard Scaling\",\"KNeighborsRegressor\")*100,\n",
    "    Linear_regression(df_Limerick_Peoples_Park_locf,\"Standard Scaling\",\"SVR\")*100,\n",
    "    Linear_regression(df_Limerick_Peoples_Park_locf,\"Standard Scaling\",\"RandomForestRegressor\")*100]\n",
    "Waterford = [Linear_regression(df_Waterford_locf,\"Standard Scaling\",\"LinearRegression\")*100,\n",
    "    Linear_regression(df_Waterford_locf,\"Standard Scaling\",\"KNeighborsRegressor\")*100,\n",
    "    Linear_regression(df_Waterford_locf,\"Standard Scaling\",\"SVR\")*100,\n",
    "    Linear_regression(df_Waterford_locf,\"Standard Scaling\",\"RandomForestRegressor\")*100]\n",
    "\n",
    "# Set position of bar on X axis\n",
    "br1 = np.arange(len(Rathmines))\n",
    "br2 = [x + barWidth for x in br1]\n",
    "br3 = [x + barWidth for x in br2]\n",
    "\n",
    "# Make the plot\n",
    "plt.bar(br1, Rathmines, width = barWidth,\n",
    "\t\tedgecolor ='grey', label ='Rathmines') # , color ='r'\n",
    "plt.bar(br2, Limerick, width = barWidth,\n",
    "\t\tedgecolor ='grey', label ='Limerick Peoples Park') # , color ='g'\n",
    "plt.bar(br3, Waterford, width = barWidth,\n",
    "\t\tedgecolor ='grey', label ='Waterford') # , color ='b'\n",
    "\n",
    "# Adding Xticks\n",
    "plt.xlabel('Models', fontweight ='bold', fontsize = 15)\n",
    "plt.ylabel('NO2 accuracy', fontweight ='bold', fontsize = 15)\n",
    "plt.xticks([r + barWidth for r in range(len(Rathmines))],\n",
    "\t\t['Linear Regression','Random Forest','KNN','SVM'])\n",
    "plt.ylim(0,100)\n",
    "plt.title(\"NO2 accuracy for year 2019 & 2020 after Standard Scalar\")\n",
    "\n",
    "plt.legend()\n",
    "plt.show()\n"
   ]
  },
  {
   "cell_type": "markdown",
   "metadata": {},
   "source": [
    "# Hyper Parameter Tuning"
   ]
  },
  {
   "cell_type": "code",
   "execution_count": 39,
   "metadata": {},
   "outputs": [],
   "source": [
    "x = df_Rathmines_locf[['NO', 'O3', 'PM2.5', 'PM10']]\n",
    "y = df_Rathmines_locf[['NO2']]\n",
    "\n",
    "x_train, x_test, y_train, y_test = model_selection.train_test_split( x, y, test_size=0.2,random_state=4)"
   ]
  },
  {
   "cell_type": "code",
   "execution_count": 140,
   "metadata": {},
   "outputs": [
    {
     "name": "stdout",
     "output_type": "stream",
     "text": [
      "Fitting 10 folds for each of 4 candidates, totalling 40 fits\n"
     ]
    },
    {
     "name": "stderr",
     "output_type": "stream",
     "text": [
      "[Parallel(n_jobs=-1)]: Using backend LokyBackend with 8 concurrent workers.\n",
      "[Parallel(n_jobs=-1)]: Done  40 out of  40 | elapsed:    0.1s finished\n"
     ]
    },
    {
     "data": {
      "text/plain": [
       "{'n_jobs': 2}"
      ]
     },
     "execution_count": 140,
     "metadata": {},
     "output_type": "execute_result"
    }
   ],
   "source": [
    "# Linear Regression\n",
    "param_grid = {\"n_jobs\":[2,5,10,20]}\n",
    "grid_search = GridSearchCV(estimator=LinearRegression(), cv=10, param_grid=param_grid, verbose=True, n_jobs=-1)\n",
    "grid_search.fit(x_train,y_train)\n",
    "grid_search.best_params_"
   ]
  },
  {
   "cell_type": "code",
   "execution_count": 138,
   "metadata": {},
   "outputs": [
    {
     "name": "stdout",
     "output_type": "stream",
     "text": [
      "Fitting 10 folds for each of 24 candidates, totalling 240 fits\n"
     ]
    },
    {
     "name": "stderr",
     "output_type": "stream",
     "text": [
      "[Parallel(n_jobs=-1)]: Using backend LokyBackend with 8 concurrent workers.\n",
      "[Parallel(n_jobs=-1)]: Done  34 tasks      | elapsed:    3.4s\n",
      "[Parallel(n_jobs=-1)]: Done 184 tasks      | elapsed:    8.7s\n",
      "[Parallel(n_jobs=-1)]: Done 240 out of 240 | elapsed:   11.0s finished\n",
      "C:\\Users\\vedan\\anaconda3\\lib\\site-packages\\sklearn\\model_selection\\_search.py:739: DataConversionWarning: A column-vector y was passed when a 1d array was expected. Please change the shape of y to (n_samples,), for example using ravel().\n",
      "  self.best_estimator_.fit(X, y, **fit_params)\n"
     ]
    },
    {
     "data": {
      "text/plain": [
       "{'min_samples_leaf': 3, 'min_samples_split': 2, 'n_estimators': 20}"
      ]
     },
     "execution_count": 138,
     "metadata": {},
     "output_type": "execute_result"
    }
   ],
   "source": [
    "# Random Forest Regressor\n",
    "param_grid = {'n_estimators':[2,5,10,20],'min_samples_split':[2,3], 'min_samples_leaf':[1,2,3]}\n",
    "grid_search = GridSearchCV(estimator=RandomForestRegressor(), cv=10, param_grid=param_grid, verbose=True, n_jobs=-1)\n",
    "grid_search.fit(x_train,y_train)\n",
    "grid_search.best_params_"
   ]
  },
  {
   "cell_type": "code",
   "execution_count": 43,
   "metadata": {},
   "outputs": [
    {
     "name": "stdout",
     "output_type": "stream",
     "text": [
      "Fitting 10 folds for each of 8 candidates, totalling 80 fits\n"
     ]
    },
    {
     "name": "stderr",
     "output_type": "stream",
     "text": [
      "[Parallel(n_jobs=-1)]: Using backend LokyBackend with 8 concurrent workers.\n",
      "[Parallel(n_jobs=-1)]: Done  52 tasks      | elapsed:   10.5s\n",
      "[Parallel(n_jobs=-1)]: Done  65 out of  80 | elapsed:   23.8s remaining:    5.4s\n",
      "[Parallel(n_jobs=-1)]: Done  80 out of  80 | elapsed:   30.8s finished\n",
      "C:\\Users\\vedan\\anaconda3\\lib\\site-packages\\sklearn\\utils\\validation.py:760: DataConversionWarning: A column-vector y was passed when a 1d array was expected. Please change the shape of y to (n_samples, ), for example using ravel().\n",
      "  y = column_or_1d(y, warn=True)\n"
     ]
    },
    {
     "data": {
      "text/plain": [
       "{'gamma': 'scale', 'max_iter': 10000}"
      ]
     },
     "execution_count": 43,
     "metadata": {},
     "output_type": "execute_result"
    }
   ],
   "source": [
    "# SVR\n",
    "param_grid = {'gamma':['scale', 'auto'], 'max_iter':[1, 100, 10000, 50000]}\n",
    "grid_search = GridSearchCV(estimator=SVR(), cv=10, param_grid=param_grid, verbose=True, n_jobs=-1)\n",
    "grid_search.fit(x_train,y_train)\n",
    "grid_search.best_params_"
   ]
  },
  {
   "cell_type": "code",
   "execution_count": 146,
   "metadata": {},
   "outputs": [
    {
     "name": "stdout",
     "output_type": "stream",
     "text": [
      "Fitting 10 folds for each of 10 candidates, totalling 100 fits\n"
     ]
    },
    {
     "name": "stderr",
     "output_type": "stream",
     "text": [
      "[Parallel(n_jobs=-1)]: Using backend LokyBackend with 8 concurrent workers.\n",
      "[Parallel(n_jobs=-1)]: Done  56 tasks      | elapsed:    0.3s\n",
      "[Parallel(n_jobs=-1)]: Done 100 out of 100 | elapsed:    0.5s finished\n"
     ]
    },
    {
     "data": {
      "text/plain": [
       "{'n_neighbors': 6, 'weights': 'distance'}"
      ]
     },
     "execution_count": 146,
     "metadata": {},
     "output_type": "execute_result"
    }
   ],
   "source": [
    "# KNeighborsRegressor\n",
    "param_grid = [{'n_neighbors': [2,3,4,5,6], 'weights': ['uniform','distance']}]\n",
    "grid_search = GridSearchCV(estimator=KNeighborsRegressor(), cv=10, param_grid=param_grid, verbose=True, n_jobs=-1)\n",
    "grid_search.fit(x_train,y_train)\n",
    "grid_search.best_params_"
   ]
  },
  {
   "cell_type": "markdown",
   "metadata": {},
   "source": [
    "# Models After Hyper Parameter Tuning"
   ]
  },
  {
   "cell_type": "code",
   "execution_count": 44,
   "metadata": {},
   "outputs": [],
   "source": [
    "# Random Forest\n",
    "\n",
    "def HyperParameterTuning(df,scaling,modelName):\n",
    "    # Split the dataset into 20% test and 80% training data\n",
    "    x = df[['NO', 'O3', 'PM2.5', 'PM10']]\n",
    "    y = df[['NO2']]\n",
    "    \n",
    "    \n",
    "    if(scaling == \"Standard Scaling\"):\n",
    "        print(\"Standard Scaling\")\n",
    "       # standard scaling\n",
    "        scaler = StandardScaler()\n",
    "        scaled_x = scaler.fit_transform(x)\n",
    "        x_train, x_test, y_train, y_test = model_selection.train_test_split(scaled_x, y, test_size=0.2,random_state=4)\n",
    "    elif(scaling == \"Normalizing\"):\n",
    "        print(\"Normalizing\")\n",
    "        # Normalizing\n",
    "        normalized_x = normalize(x)\n",
    "        x_train, x_test, y_train, y_test = model_selection.train_test_split(normalized_x, y, test_size=0.2,random_state=4)\n",
    "    else:\n",
    "        print(\"Original Data\")\n",
    "         #     train_x, test_x, train_y, test_y\n",
    "        x_train, x_test, y_train, y_test = model_selection.train_test_split( x, y, test_size=0.2,random_state=4)\n",
    "\n",
    "    if(modelName == \"RandomForestRegressor\"):\n",
    "        print(\"RandomForestRegressor\")\n",
    "        model = RandomForestRegressor(min_samples_leaf= 3, min_samples_split= 3, n_estimators= 20)\n",
    "    elif(modelName == \"SVR\"):\n",
    "        print(\"SVR\")\n",
    "        model = SVR(gamma= 'scale', max_iter= 10000)\n",
    "    elif(modelName == \"KNeighborsRegressor\"):\n",
    "        print(\"KNeighborsRegressor\")\n",
    "        model = KNeighborsRegressor(n_neighbors= 6, weights= 'distance')\n",
    "    else:\n",
    "        print(\"LinearRegression\")\n",
    "        model = LinearRegression(n_jobs= 2)\n",
    "    \n",
    "    \n",
    "    model.fit(x_train, y_train)\n",
    "    print(model.score(x_test,y_test))\n",
    "    Evaluation(model, x_test, y_test,x,y)\n",
    "    return model.score(x_test,y_test)"
   ]
  },
  {
   "cell_type": "markdown",
   "metadata": {},
   "source": [
    "# Plots After Hyper Parameter Tuning"
   ]
  },
  {
   "cell_type": "code",
   "execution_count": 49,
   "metadata": {},
   "outputs": [
    {
     "name": "stdout",
     "output_type": "stream",
     "text": [
      "Original Data\n",
      "LinearRegression\n",
      "0.5839161686659482\n",
      "R squared: 61.54\n",
      "Mean Absolute Error: 4.197483129298954\n",
      "Mean Square Error: 33.422038897151204\n",
      "Root Mean Square Error: 5.781179715002052\n",
      "Adjusted R squared: 0.6152156521870801 \n",
      "\n",
      "Original Data\n",
      "KNeighborsRegressor\n",
      "0.7362550172235445\n",
      "R squared: 94.58\n",
      "Mean Absolute Error: 3.148697783815488\n",
      "Mean Square Error: 21.18538239042063\n",
      "Root Mean Square Error: 4.602758128602961\n",
      "Adjusted R squared: 0.9457763461315372 \n",
      "\n",
      "Original Data\n",
      "SVR\n"
     ]
    },
    {
     "name": "stderr",
     "output_type": "stream",
     "text": [
      "C:\\Users\\vedan\\anaconda3\\lib\\site-packages\\sklearn\\utils\\validation.py:760: DataConversionWarning: A column-vector y was passed when a 1d array was expected. Please change the shape of y to (n_samples, ), for example using ravel().\n",
      "  y = column_or_1d(y, warn=True)\n"
     ]
    },
    {
     "name": "stdout",
     "output_type": "stream",
     "text": [
      "0.7072174833825524\n",
      "R squared: 72.81\n",
      "Mean Absolute Error: 3.3237615744312317\n",
      "Mean Square Error: 23.517829634043082\n",
      "Root Mean Square Error: 4.849518495071761\n",
      "Adjusted R squared: 0.7279264994969638 \n",
      "\n",
      "Original Data\n",
      "RandomForestRegressor\n"
     ]
    },
    {
     "name": "stderr",
     "output_type": "stream",
     "text": [
      "C:\\Users\\vedan\\anaconda3\\lib\\site-packages\\ipykernel_launcher.py:40: DataConversionWarning: A column-vector y was passed when a 1d array was expected. Please change the shape of y to (n_samples,), for example using ravel().\n"
     ]
    },
    {
     "name": "stdout",
     "output_type": "stream",
     "text": [
      "0.7502988684095931\n",
      "R squared: 87.88\n",
      "Mean Absolute Error: 3.0828392406894065\n",
      "Mean Square Error: 20.057306494991078\n",
      "Root Mean Square Error: 4.478538432903203\n",
      "Adjusted R squared: 0.8787410975877372 \n",
      "\n",
      "Original Data\n",
      "LinearRegression\n",
      "0.6735058491496628\n",
      "R squared: 66.93\n",
      "Mean Absolute Error: 1.245043405386168\n",
      "Mean Square Error: 6.191501042941036\n",
      "Root Mean Square Error: 2.488272702687757\n",
      "Adjusted R squared: 0.6691813210142479 \n",
      "\n",
      "Original Data\n",
      "KNeighborsRegressor\n",
      "0.8221309494789147\n",
      "R squared: 96.40\n",
      "Mean Absolute Error: 0.7758469521898952\n",
      "Mean Square Error: 3.3730356545133002\n",
      "Root Mean Square Error: 1.8365826021481584\n",
      "Adjusted R squared: 0.9639620872323685 \n",
      "\n",
      "Original Data\n",
      "SVR\n"
     ]
    },
    {
     "name": "stderr",
     "output_type": "stream",
     "text": [
      "C:\\Users\\vedan\\anaconda3\\lib\\site-packages\\sklearn\\utils\\validation.py:760: DataConversionWarning: A column-vector y was passed when a 1d array was expected. Please change the shape of y to (n_samples, ), for example using ravel().\n",
      "  y = column_or_1d(y, warn=True)\n"
     ]
    },
    {
     "name": "stdout",
     "output_type": "stream",
     "text": [
      "0.8144039375183962\n",
      "R squared: 80.98\n",
      "Mean Absolute Error: 0.8065141089326304\n",
      "Mean Square Error: 3.51956753720635\n",
      "Root Mean Square Error: 1.8760510486674795\n",
      "Adjusted R squared: 0.8097448160969837 \n",
      "\n",
      "Original Data\n",
      "RandomForestRegressor\n",
      "0.8473393507712847\n"
     ]
    },
    {
     "name": "stderr",
     "output_type": "stream",
     "text": [
      "C:\\Users\\vedan\\anaconda3\\lib\\site-packages\\ipykernel_launcher.py:40: DataConversionWarning: A column-vector y was passed when a 1d array was expected. Please change the shape of y to (n_samples,), for example using ravel().\n"
     ]
    },
    {
     "name": "stdout",
     "output_type": "stream",
     "text": [
      "R squared: 91.91\n",
      "Mean Absolute Error: 0.6875816425071593\n",
      "Mean Square Error: 2.8949938810662457\n",
      "Root Mean Square Error: 1.701468154584812\n",
      "Adjusted R squared: 0.919059680259426 \n",
      "\n",
      "Original Data\n",
      "LinearRegression\n",
      "0.5506326050460646\n",
      "R squared: 51.93\n",
      "Mean Absolute Error: 1.7814445076893008\n",
      "Mean Square Error: 7.601287491213606\n",
      "Root Mean Square Error: 2.7570432516037187\n",
      "Adjusted R squared: 0.5190550354520673 \n",
      "\n",
      "Original Data\n",
      "KNeighborsRegressor\n",
      "0.7351154084423585\n",
      "R squared: 94.09\n",
      "Mean Absolute Error: 1.3049221361871213\n",
      "Mean Square Error: 4.480663161217396\n",
      "Root Mean Square Error: 2.1167577001672617\n",
      "Adjusted R squared: 0.9408897037360736 \n",
      "\n",
      "Original Data\n",
      "SVR\n"
     ]
    },
    {
     "name": "stderr",
     "output_type": "stream",
     "text": [
      "C:\\Users\\vedan\\anaconda3\\lib\\site-packages\\sklearn\\utils\\validation.py:760: DataConversionWarning: A column-vector y was passed when a 1d array was expected. Please change the shape of y to (n_samples, ), for example using ravel().\n",
      "  y = column_or_1d(y, warn=True)\n"
     ]
    },
    {
     "name": "stdout",
     "output_type": "stream",
     "text": [
      "0.5899444641765373\n",
      "R squared: 60.79\n",
      "Mean Absolute Error: 1.4704681535812325\n",
      "Mean Square Error: 6.936306572659322\n",
      "Root Mean Square Error: 2.6336868782486884\n",
      "Adjusted R squared: 0.6077631055283426 \n",
      "\n",
      "Original Data\n",
      "RandomForestRegressor\n"
     ]
    },
    {
     "name": "stderr",
     "output_type": "stream",
     "text": [
      "C:\\Users\\vedan\\anaconda3\\lib\\site-packages\\ipykernel_launcher.py:40: DataConversionWarning: A column-vector y was passed when a 1d array was expected. Please change the shape of y to (n_samples,), for example using ravel().\n"
     ]
    },
    {
     "name": "stdout",
     "output_type": "stream",
     "text": [
      "0.7926437719987045\n",
      "R squared: 87.70\n",
      "Mean Absolute Error: 1.1291001651073544\n",
      "Mean Square Error: 3.5075404220038204\n",
      "Root Mean Square Error: 1.8728428716803287\n",
      "Adjusted R squared: 0.876956382876733 \n",
      "\n"
     ]
    },
    {
     "data": {
      "image/png": "[encoded data removed]",
      "text/plain": [
       "<Figure size 864x576 with 1 Axes>"
      ]
     },
     "metadata": {
      "needs_background": "light"
     },
     "output_type": "display_data"
    }
   ],
   "source": [
    "# NO2 accuracy for year 2019\n",
    "\n",
    "# set width of bar\n",
    "barWidth = 0.25\n",
    "fig = plt.subplots(figsize =(12, 8))\n",
    "\n",
    "# set height of bar\n",
    "Rathmines = [HyperParameterTuning(rathmines_2019,\"\",\"LinearRegression\")*100,\n",
    "    HyperParameterTuning(rathmines_2019,\"\",\"KNeighborsRegressor\")*100,\n",
    "    HyperParameterTuning(rathmines_2019,\"\",\"SVR\")*100,\n",
    "    HyperParameterTuning(rathmines_2019,\"\",\"RandomForestRegressor\")*100]\n",
    "Limerick = [HyperParameterTuning(Limerick_Peoples_Park_2019,\"\",\"LinearRegression\")*100,\n",
    "    HyperParameterTuning(Limerick_Peoples_Park_2019,\"\",\"KNeighborsRegressor\")*100,\n",
    "    HyperParameterTuning(Limerick_Peoples_Park_2019,\"\",\"SVR\")*100,\n",
    "    HyperParameterTuning(Limerick_Peoples_Park_2019,\"\",\"RandomForestRegressor\")*100]\n",
    "Waterford = [HyperParameterTuning(Waterford_2019,\"\",\"LinearRegression\")*100,\n",
    "    HyperParameterTuning(Waterford_2019,\"\",\"KNeighborsRegressor\")*100,\n",
    "    HyperParameterTuning(Waterford_2019,\"\",\"SVR\")*100,\n",
    "    HyperParameterTuning(Waterford_2019,\"\",\"RandomForestRegressor\")*100]\n",
    "\n",
    "# Set position of bar on X axis\n",
    "br1 = np.arange(len(Rathmines))\n",
    "br2 = [x + barWidth for x in br1]\n",
    "br3 = [x + barWidth for x in br2]\n",
    "\n",
    "# Make the plot\n",
    "plt.bar(br1, Rathmines, width = barWidth,\n",
    "\t\tedgecolor ='grey', label ='Rathmines') # , color ='r'\n",
    "plt.bar(br2, Limerick, width = barWidth,\n",
    "\t\tedgecolor ='grey', label ='Limerick Peoples Park') # , color ='g'\n",
    "plt.bar(br3, Waterford, width = barWidth,\n",
    "\t\tedgecolor ='grey', label ='Waterford') # , color ='b'\n",
    "\n",
    "# Adding Xticks\n",
    "plt.xlabel('Models', fontweight ='bold', fontsize = 15)\n",
    "plt.ylabel('NO2 accuracy', fontweight ='bold', fontsize = 15)\n",
    "plt.xticks([r + barWidth for r in range(len(Rathmines))],\n",
    "\t\t['Linear Regression','KNN','SVR','Random Forest'])\n",
    "plt.ylim(0,100)\n",
    "plt.title(\"NO2 accuracy for year 2019 after Hyper Parameter Tuning\")\n",
    "\n",
    "plt.legend()\n",
    "plt.show()\n"
   ]
  },
  {
   "cell_type": "code",
   "execution_count": 50,
   "metadata": {},
   "outputs": [
    {
     "name": "stdout",
     "output_type": "stream",
     "text": [
      "Original Data\n",
      "LinearRegression\n",
      "0.7440490159820177\n",
      "R squared: 67.47\n",
      "Mean Absolute Error: 2.6984768656298277\n",
      "Mean Square Error: 13.4400585755642\n",
      "Root Mean Square Error: 3.6660685448534918\n",
      "Adjusted R squared: 0.6744248522201861 \n",
      "\n",
      "Original Data\n",
      "KNeighborsRegressor\n",
      "0.7788845045118361\n",
      "R squared: 95.31\n",
      "Mean Absolute Error: 2.1945049079499337\n",
      "Mean Square Error: 11.61083721841458\n",
      "Root Mean Square Error: 3.407467860217405\n",
      "Adjusted R squared: 0.9530734091175431 \n",
      "\n",
      "Original Data\n",
      "SVR\n"
     ]
    },
    {
     "name": "stderr",
     "output_type": "stream",
     "text": [
      "C:\\Users\\vedan\\anaconda3\\lib\\site-packages\\sklearn\\utils\\validation.py:760: DataConversionWarning: A column-vector y was passed when a 1d array was expected. Please change the shape of y to (n_samples, ), for example using ravel().\n",
      "  y = column_or_1d(y, warn=True)\n"
     ]
    },
    {
     "name": "stdout",
     "output_type": "stream",
     "text": [
      "0.7514737608663443\n",
      "R squared: 73.23\n",
      "Mean Absolute Error: 2.2571255123819673\n",
      "Mean Square Error: 13.050183121336758\n",
      "Root Mean Square Error: 3.6125037192142457\n",
      "Adjusted R squared: 0.7320219981785627 \n",
      "\n",
      "Original Data\n",
      "RandomForestRegressor\n",
      "0.8068347326805703\n",
      "R squared: 89.18\n",
      "Mean Absolute Error: 2.0641590680721205\n",
      "Mean Square Error: 10.143162830564673\n",
      "Root Mean Square Error: 3.184833250040679\n",
      "Adjusted R squared: 0.8916729525249987 \n",
      "\n"
     ]
    },
    {
     "name": "stderr",
     "output_type": "stream",
     "text": [
      "C:\\Users\\vedan\\anaconda3\\lib\\site-packages\\ipykernel_launcher.py:40: DataConversionWarning: A column-vector y was passed when a 1d array was expected. Please change the shape of y to (n_samples,), for example using ravel().\n"
     ]
    },
    {
     "name": "stdout",
     "output_type": "stream",
     "text": [
      "Original Data\n",
      "LinearRegression\n",
      "0.6760656796661101\n",
      "R squared: 67.01\n",
      "Mean Absolute Error: 2.2261764483951376\n",
      "Mean Square Error: 11.036034157055012\n",
      "Root Mean Square Error: 3.322052702329542\n",
      "Adjusted R squared: 0.6697921674996697 \n",
      "\n",
      "Original Data\n",
      "KNeighborsRegressor\n",
      "0.8319319296789041\n",
      "R squared: 96.28\n",
      "Mean Absolute Error: 1.5687714854960946\n",
      "Mean Square Error: 5.725867400719161\n",
      "Root Mean Square Error: 2.39287847596136\n",
      "Adjusted R squared: 0.9627637108442144 \n",
      "\n",
      "Original Data\n",
      "SVR\n"
     ]
    },
    {
     "name": "stderr",
     "output_type": "stream",
     "text": [
      "C:\\Users\\vedan\\anaconda3\\lib\\site-packages\\sklearn\\utils\\validation.py:760: DataConversionWarning: A column-vector y was passed when a 1d array was expected. Please change the shape of y to (n_samples, ), for example using ravel().\n",
      "  y = column_or_1d(y, warn=True)\n"
     ]
    },
    {
     "name": "stdout",
     "output_type": "stream",
     "text": [
      "0.7642238858646553\n",
      "R squared: 76.96\n",
      "Mean Absolute Error: 1.6517947504966333\n",
      "Mean Square Error: 8.032595145625086\n",
      "Root Mean Square Error: 2.834183329572222\n",
      "Adjusted R squared: 0.7693912646846559 \n",
      "\n",
      "Original Data\n",
      "RandomForestRegressor\n"
     ]
    },
    {
     "name": "stderr",
     "output_type": "stream",
     "text": [
      "C:\\Users\\vedan\\anaconda3\\lib\\site-packages\\ipykernel_launcher.py:40: DataConversionWarning: A column-vector y was passed when a 1d array was expected. Please change the shape of y to (n_samples,), for example using ravel().\n"
     ]
    },
    {
     "name": "stdout",
     "output_type": "stream",
     "text": [
      "0.8460680366829926\n",
      "R squared: 91.21\n",
      "Mean Absolute Error: 1.5062312105166935\n",
      "Mean Square Error: 5.244268045689093\n",
      "Root Mean Square Error: 2.290036690904557\n",
      "Adjusted R squared: 0.9120265858432448 \n",
      "\n",
      "Original Data\n",
      "LinearRegression\n",
      "0.5863268352054052\n",
      "R squared: 57.08\n",
      "Mean Absolute Error: 1.8208057379030456\n",
      "Mean Square Error: 6.619518364203591\n",
      "Root Mean Square Error: 2.572842467817179\n",
      "Adjusted R squared: 0.5704466290540391 \n",
      "\n",
      "Original Data\n",
      "KNeighborsRegressor\n",
      "0.765252568444113\n",
      "R squared: 95.51\n",
      "Mean Absolute Error: 1.2411480851939216\n",
      "Mean Square Error: 3.7563832183927133\n",
      "Root Mean Square Error: 1.9381391122395506\n",
      "Adjusted R squared: 0.9550214143814937 \n",
      "\n",
      "Original Data\n",
      "SVR\n"
     ]
    },
    {
     "name": "stderr",
     "output_type": "stream",
     "text": [
      "C:\\Users\\vedan\\anaconda3\\lib\\site-packages\\sklearn\\utils\\validation.py:760: DataConversionWarning: A column-vector y was passed when a 1d array was expected. Please change the shape of y to (n_samples, ), for example using ravel().\n",
      "  y = column_or_1d(y, warn=True)\n"
     ]
    },
    {
     "name": "stdout",
     "output_type": "stream",
     "text": [
      "0.7497918783218347\n",
      "R squared: 73.51\n",
      "Mean Absolute Error: 1.176921743548667\n",
      "Mean Square Error: 4.003782206041573\n",
      "Root Mean Square Error: 2.0009453280990894\n",
      "Adjusted R squared: 0.7348363539371408 \n",
      "\n",
      "Original Data\n",
      "RandomForestRegressor\n",
      "0.8287275050872369\n",
      "R squared: 90.77\n",
      "Mean Absolute Error: 1.082176633066493\n",
      "Mean Square Error: 2.7406694991224505\n",
      "Root Mean Square Error: 1.6554967529785283\n",
      "Adjusted R squared: 0.9076264165524316 \n",
      "\n"
     ]
    },
    {
     "name": "stderr",
     "output_type": "stream",
     "text": [
      "C:\\Users\\vedan\\anaconda3\\lib\\site-packages\\ipykernel_launcher.py:40: DataConversionWarning: A column-vector y was passed when a 1d array was expected. Please change the shape of y to (n_samples,), for example using ravel().\n"
     ]
    },
    {
     "data": {
      "image/png": "[encoded data removed]",
      "text/plain": [
       "<Figure size 864x576 with 1 Axes>"
      ]
     },
     "metadata": {
      "needs_background": "light"
     },
     "output_type": "display_data"
    }
   ],
   "source": [
    "# NO2 accuracy for year 2020\n",
    "\n",
    "# set width of bar\n",
    "barWidth = 0.25\n",
    "fig = plt.subplots(figsize =(12, 8))\n",
    "\n",
    "# set height of bar\n",
    "Rathmines = [HyperParameterTuning(rathmines_2020,\"\",\"LinearRegression\")*100,\n",
    "    HyperParameterTuning(rathmines_2020,\"\",\"KNeighborsRegressor\")*100,\n",
    "    HyperParameterTuning(rathmines_2020,\"\",\"SVR\")*100,\n",
    "    HyperParameterTuning(rathmines_2020,\"\",\"RandomForestRegressor\")*100]\n",
    "Limerick = [HyperParameterTuning(Limerick_Peoples_Park_2020,\"\",\"LinearRegression\")*100,\n",
    "    HyperParameterTuning(Limerick_Peoples_Park_2020,\"\",\"KNeighborsRegressor\")*100,\n",
    "    HyperParameterTuning(Limerick_Peoples_Park_2020,\"\",\"SVR\")*100,\n",
    "    HyperParameterTuning(Limerick_Peoples_Park_2020,\"\",\"RandomForestRegressor\")*100]\n",
    "Waterford = [HyperParameterTuning(Waterford_2020,\"\",\"LinearRegression\")*100,\n",
    "    HyperParameterTuning(Waterford_2020,\"\",\"KNeighborsRegressor\")*100,\n",
    "    HyperParameterTuning(Waterford_2020,\"\",\"SVR\")*100,\n",
    "    HyperParameterTuning(Waterford_2020,\"\",\"RandomForestRegressor\")*100]\n",
    "\n",
    "# Set position of bar on X axis\n",
    "br1 = np.arange(len(Rathmines))\n",
    "br2 = [x + barWidth for x in br1]\n",
    "br3 = [x + barWidth for x in br2]\n",
    "\n",
    "# Make the plot\n",
    "plt.bar(br1, Rathmines, width = barWidth,\n",
    "\t\tedgecolor ='grey', label ='Rathmines') # , color ='r'\n",
    "plt.bar(br2, Limerick, width = barWidth,\n",
    "\t\tedgecolor ='grey', label ='Limerick Peoples Park') # , color ='g'\n",
    "plt.bar(br3, Waterford, width = barWidth,\n",
    "\t\tedgecolor ='grey', label ='Waterford') # , color ='b'\n",
    "\n",
    "# Adding Xticks\n",
    "plt.xlabel('Models', fontweight ='bold', fontsize = 15)\n",
    "plt.ylabel('NO2 accuracy', fontweight ='bold', fontsize = 15)\n",
    "plt.xticks([r + barWidth for r in range(len(Rathmines))],\n",
    "\t\t['Linear Regression','KNN','SVR','Random Forest'])\n",
    "plt.ylim(0,100)\n",
    "plt.title(\"NO2 accuracy for year 2020 after Hyper Parameter Tuning\")\n",
    "\n",
    "plt.legend()\n",
    "plt.show()\n"
   ]
  },
  {
   "cell_type": "code",
   "execution_count": 51,
   "metadata": {},
   "outputs": [
    {
     "name": "stdout",
     "output_type": "stream",
     "text": [
      "Original Data\n",
      "LinearRegression\n",
      "0.6595941687898673\n",
      "R squared: 63.83\n",
      "Mean Absolute Error: 3.744366787612108\n",
      "Mean Square Error: 27.07212726204301\n",
      "Root Mean Square Error: 5.203088242769193\n",
      "Adjusted R squared: 0.6382274041858398 \n",
      "\n",
      "Original Data\n",
      "KNeighborsRegressor\n",
      "0.7674710934716632\n",
      "R squared: 94.86\n",
      "Mean Absolute Error: 2.81894850941135\n",
      "Mean Square Error: 18.49278588225154\n",
      "Root Mean Square Error: 4.300323927595634\n",
      "Adjusted R squared: 0.9486038632996041 \n",
      "\n",
      "Original Data\n",
      "SVR\n"
     ]
    },
    {
     "name": "stderr",
     "output_type": "stream",
     "text": [
      "C:\\Users\\vedan\\anaconda3\\lib\\site-packages\\sklearn\\utils\\validation.py:760: DataConversionWarning: A column-vector y was passed when a 1d array was expected. Please change the shape of y to (n_samples, ), for example using ravel().\n",
      "  y = column_or_1d(y, warn=True)\n"
     ]
    },
    {
     "name": "stdout",
     "output_type": "stream",
     "text": [
      "0.7373257868774361\n",
      "R squared: 74.93\n",
      "Mean Absolute Error: 2.961958099916938\n",
      "Mean Square Error: 20.89021125411141\n",
      "Root Mean Square Error: 4.570581063071894\n",
      "Adjusted R squared: 0.7492301818644118 \n",
      "\n",
      "Original Data\n",
      "RandomForestRegressor\n"
     ]
    },
    {
     "name": "stderr",
     "output_type": "stream",
     "text": [
      "C:\\Users\\vedan\\anaconda3\\lib\\site-packages\\ipykernel_launcher.py:40: DataConversionWarning: A column-vector y was passed when a 1d array was expected. Please change the shape of y to (n_samples,), for example using ravel().\n"
     ]
    },
    {
     "name": "stdout",
     "output_type": "stream",
     "text": [
      "0.7774357896659849\n",
      "R squared: 88.52\n",
      "Mean Absolute Error: 2.778153679274899\n",
      "Mean Square Error: 17.700303795381092\n",
      "Root Mean Square Error: 4.207172898203863\n",
      "Adjusted R squared: 0.8851973901152012 \n",
      "\n",
      "Original Data\n",
      "LinearRegression\n",
      "0.6258439838908993\n",
      "R squared: 64.91\n",
      "Mean Absolute Error: 1.6519103648918994\n",
      "Mean Square Error: 7.256106394604109\n",
      "Root Mean Square Error: 2.693716093912666\n",
      "Adjusted R squared: 0.649022960902771 \n",
      "\n",
      "Original Data\n",
      "KNeighborsRegressor\n",
      "0.7967097234441171\n",
      "R squared: 96.53\n",
      "Mean Absolute Error: 1.0275014811406233\n",
      "Mean Square Error: 3.942462000257815\n",
      "Root Mean Square Error: 1.9855633961820043\n",
      "Adjusted R squared: 0.9652463686863941 \n",
      "\n",
      "Original Data\n",
      "SVR\n"
     ]
    },
    {
     "name": "stderr",
     "output_type": "stream",
     "text": [
      "C:\\Users\\vedan\\anaconda3\\lib\\site-packages\\sklearn\\utils\\validation.py:760: DataConversionWarning: A column-vector y was passed when a 1d array was expected. Please change the shape of y to (n_samples, ), for example using ravel().\n",
      "  y = column_or_1d(y, warn=True)\n"
     ]
    },
    {
     "name": "stdout",
     "output_type": "stream",
     "text": [
      "0.798910300735617\n",
      "R squared: 80.76\n",
      "Mean Absolute Error: 1.0380410371165731\n",
      "Mean Square Error: 3.899785623908928\n",
      "Root Mean Square Error: 1.9747874882905574\n",
      "Adjusted R squared: 0.8075640123980281 \n",
      "\n",
      "Original Data\n",
      "RandomForestRegressor\n"
     ]
    },
    {
     "name": "stderr",
     "output_type": "stream",
     "text": [
      "C:\\Users\\vedan\\anaconda3\\lib\\site-packages\\ipykernel_launcher.py:40: DataConversionWarning: A column-vector y was passed when a 1d array was expected. Please change the shape of y to (n_samples,), for example using ravel().\n"
     ]
    },
    {
     "name": "stdout",
     "output_type": "stream",
     "text": [
      "0.8045730261151925\n",
      "R squared: 91.49\n",
      "Mean Absolute Error: 0.989258907881134\n",
      "Mean Square Error: 3.789966895708541\n",
      "Root Mean Square Error: 1.9467837311084508\n",
      "Adjusted R squared: 0.9149078855988553 \n",
      "\n",
      "Original Data\n",
      "LinearRegression\n",
      "0.47834574314480105\n",
      "R squared: 51.35\n",
      "Mean Absolute Error: 1.9284660360452346\n",
      "Mean Square Error: 7.995867308465933\n",
      "Root Mean Square Error: 2.8276964668199334\n",
      "Adjusted R squared: 0.5133925509827234 \n",
      "\n",
      "Original Data\n",
      "KNeighborsRegressor\n",
      "0.7144647019488136\n",
      "R squared: 94.41\n",
      "Mean Absolute Error: 1.3503952869908644\n",
      "Mean Square Error: 4.376658150676804\n",
      "Root Mean Square Error: 2.0920464026108037\n",
      "Adjusted R squared: 0.944106138870746 \n",
      "\n",
      "Original Data\n",
      "SVR\n"
     ]
    },
    {
     "name": "stderr",
     "output_type": "stream",
     "text": [
      "C:\\Users\\vedan\\anaconda3\\lib\\site-packages\\sklearn\\utils\\validation.py:760: DataConversionWarning: A column-vector y was passed when a 1d array was expected. Please change the shape of y to (n_samples, ), for example using ravel().\n",
      "  y = column_or_1d(y, warn=True)\n"
     ]
    },
    {
     "name": "stdout",
     "output_type": "stream",
     "text": [
      "0.6585177460424078\n",
      "R squared: 68.46\n",
      "Mean Absolute Error: 1.4055008973788015\n",
      "Mean Square Error: 5.2342078205233395\n",
      "Root Mean Square Error: 2.2878391159614653\n",
      "Adjusted R squared: 0.684493013010143 \n",
      "\n",
      "Original Data\n",
      "RandomForestRegressor\n"
     ]
    },
    {
     "name": "stderr",
     "output_type": "stream",
     "text": [
      "C:\\Users\\vedan\\anaconda3\\lib\\site-packages\\ipykernel_launcher.py:40: DataConversionWarning: A column-vector y was passed when a 1d array was expected. Please change the shape of y to (n_samples,), for example using ravel().\n"
     ]
    },
    {
     "name": "stdout",
     "output_type": "stream",
     "text": [
      "0.7826586647078431\n",
      "R squared: 88.59\n",
      "Mean Absolute Error: 1.1586819163834252\n",
      "Mean Square Error: 3.3313875134796023\n",
      "Root Mean Square Error: 1.8252088958471582\n",
      "Adjusted R squared: 0.8858819267299238 \n",
      "\n"
     ]
    },
    {
     "data": {
      "image/png": "[encoded data removed]",
      "text/plain": [
       "<Figure size 864x576 with 1 Axes>"
      ]
     },
     "metadata": {
      "needs_background": "light"
     },
     "output_type": "display_data"
    }
   ],
   "source": [
    "# NO2 accuracy for year 2019 & 2020(combined data)\n",
    "\n",
    "# set width of bar\n",
    "barWidth = 0.25\n",
    "fig = plt.subplots(figsize =(12, 8))\n",
    "\n",
    "# set height of bar\n",
    "Rathmines = [HyperParameterTuning(df_Rathmines_locf,\"\",\"LinearRegression\")*100,\n",
    "    HyperParameterTuning(df_Rathmines_locf,\"\",\"KNeighborsRegressor\")*100,\n",
    "    HyperParameterTuning(df_Rathmines_locf,\"\",\"SVR\")*100,\n",
    "    HyperParameterTuning(df_Rathmines_locf,\"\",\"RandomForestRegressor\")*100]\n",
    "Limerick = [HyperParameterTuning(df_Limerick_Peoples_Park_locf,\"\",\"LinearRegression\")*100,\n",
    "    HyperParameterTuning(df_Limerick_Peoples_Park_locf,\"\",\"KNeighborsRegressor\")*100,\n",
    "    HyperParameterTuning(df_Limerick_Peoples_Park_locf,\"\",\"SVR\")*100,\n",
    "    HyperParameterTuning(df_Limerick_Peoples_Park_locf,\"\",\"RandomForestRegressor\")*100]\n",
    "Waterford = [HyperParameterTuning(df_Waterford_locf,\"\",\"LinearRegression\")*100,\n",
    "    HyperParameterTuning(df_Waterford_locf,\"\",\"KNeighborsRegressor\")*100,\n",
    "    HyperParameterTuning(df_Waterford_locf,\"\",\"SVR\")*100,\n",
    "    HyperParameterTuning(df_Waterford_locf,\"\",\"RandomForestRegressor\")*100]\n",
    "\n",
    "# Set position of bar on X axis\n",
    "br1 = np.arange(len(Rathmines))\n",
    "br2 = [x + barWidth for x in br1]\n",
    "br3 = [x + barWidth for x in br2]\n",
    "\n",
    "# Make the plot\n",
    "plt.bar(br1, Rathmines, width = barWidth,\n",
    "\t\tedgecolor ='grey', label ='Rathmines') # , color ='r'\n",
    "plt.bar(br2, Limerick, width = barWidth,\n",
    "\t\tedgecolor ='grey', label ='Limerick Peoples Park') # , color ='g'\n",
    "plt.bar(br3, Waterford, width = barWidth,\n",
    "\t\tedgecolor ='grey', label ='Waterford') # , color ='b'\n",
    "\n",
    "# Adding Xticks\n",
    "plt.xlabel('Models', fontweight ='bold', fontsize = 15)\n",
    "plt.ylabel('NO2 accuracy', fontweight ='bold', fontsize = 15)\n",
    "plt.xticks([r + barWidth for r in range(len(Rathmines))],\n",
    "\t\t['Linear Regression','KNN','SVR','Random Forest'])\n",
    "plt.ylim(0,100)\n",
    "plt.title(\"NO2 accuracy for year 2019 & 2020(combined data) after Hyper Parameter Tuning\")\n",
    "\n",
    "plt.legend()\n",
    "plt.show()\n"
   ]
  }
 ],
 "metadata": {
  "kernelspec": {
   "display_name": "Python 3",
   "language": "python",
   "name": "python3"
  },
  "language_info": {
   "codemirror_mode": {
    "name": "ipython",
    "version": 3
   },
   "file_extension": ".py",
   "mimetype": "text/x-python",
   "name": "python",
   "nbconvert_exporter": "python",
   "pygments_lexer": "ipython3",
   "version": "3.7.6"
  }
 },
 "nbformat": 4,
 "nbformat_minor": 4
}
